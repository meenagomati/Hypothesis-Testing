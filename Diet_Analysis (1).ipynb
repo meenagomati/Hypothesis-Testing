{
  "nbformat": 4,
  "nbformat_minor": 0,
  "metadata": {
    "colab": {
      "provenance": [],
      "collapsed_sections": [
        "3BMXe-hmj49G",
        "Q85dngcW6pbH",
        "8fyBbhK7708b",
        "RUhxjsPS8mVp",
        "X3fuam9V9lGB",
        "l2daoldY-Ud_",
        "KbR6-L2lBpZM",
        "YEMKiKtgB_64",
        "nXy6n4TDCPed"
      ]
    },
    "kernelspec": {
      "name": "python3",
      "display_name": "Python 3"
    },
    "language_info": {
      "name": "python"
    }
  },
  "cells": [
    {
      "cell_type": "code",
      "execution_count": 4,
      "metadata": {
        "colab": {
          "base_uri": "https://localhost:8080/",
          "height": 224
        },
        "id": "U5brx76Nfi1n",
        "outputId": "661bdc2a-a5dd-435a-89b8-8c7a8cbd0f11"
      },
      "outputs": [
        {
          "output_type": "stream",
          "name": "stdout",
          "text": [
            "Drive already mounted at /content/drive; to attempt to forcibly remount, call drive.mount(\"/content/drive\", force_remount=True).\n"
          ]
        },
        {
          "output_type": "execute_result",
          "data": {
            "text/plain": [
              "  diet  preweight  weight6weeks\n",
              "0    B         60          60.0\n",
              "1    B        103         103.0\n",
              "2    A         58          54.2\n",
              "3    A         60          54.0\n",
              "4    A         64          63.3"
            ],
            "text/html": [
              "\n",
              "  <div id=\"df-e952bde8-0c9d-47d4-93e9-3fb973e42f81\" class=\"colab-df-container\">\n",
              "    <div>\n",
              "<style scoped>\n",
              "    .dataframe tbody tr th:only-of-type {\n",
              "        vertical-align: middle;\n",
              "    }\n",
              "\n",
              "    .dataframe tbody tr th {\n",
              "        vertical-align: top;\n",
              "    }\n",
              "\n",
              "    .dataframe thead th {\n",
              "        text-align: right;\n",
              "    }\n",
              "</style>\n",
              "<table border=\"1\" class=\"dataframe\">\n",
              "  <thead>\n",
              "    <tr style=\"text-align: right;\">\n",
              "      <th></th>\n",
              "      <th>diet</th>\n",
              "      <th>preweight</th>\n",
              "      <th>weight6weeks</th>\n",
              "    </tr>\n",
              "  </thead>\n",
              "  <tbody>\n",
              "    <tr>\n",
              "      <th>0</th>\n",
              "      <td>B</td>\n",
              "      <td>60</td>\n",
              "      <td>60.0</td>\n",
              "    </tr>\n",
              "    <tr>\n",
              "      <th>1</th>\n",
              "      <td>B</td>\n",
              "      <td>103</td>\n",
              "      <td>103.0</td>\n",
              "    </tr>\n",
              "    <tr>\n",
              "      <th>2</th>\n",
              "      <td>A</td>\n",
              "      <td>58</td>\n",
              "      <td>54.2</td>\n",
              "    </tr>\n",
              "    <tr>\n",
              "      <th>3</th>\n",
              "      <td>A</td>\n",
              "      <td>60</td>\n",
              "      <td>54.0</td>\n",
              "    </tr>\n",
              "    <tr>\n",
              "      <th>4</th>\n",
              "      <td>A</td>\n",
              "      <td>64</td>\n",
              "      <td>63.3</td>\n",
              "    </tr>\n",
              "  </tbody>\n",
              "</table>\n",
              "</div>\n",
              "    <div class=\"colab-df-buttons\">\n",
              "\n",
              "  <div class=\"colab-df-container\">\n",
              "    <button class=\"colab-df-convert\" onclick=\"convertToInteractive('df-e952bde8-0c9d-47d4-93e9-3fb973e42f81')\"\n",
              "            title=\"Convert this dataframe to an interactive table.\"\n",
              "            style=\"display:none;\">\n",
              "\n",
              "  <svg xmlns=\"http://www.w3.org/2000/svg\" height=\"24px\" viewBox=\"0 -960 960 960\">\n",
              "    <path d=\"M120-120v-720h720v720H120Zm60-500h600v-160H180v160Zm220 220h160v-160H400v160Zm0 220h160v-160H400v160ZM180-400h160v-160H180v160Zm440 0h160v-160H620v160ZM180-180h160v-160H180v160Zm440 0h160v-160H620v160Z\"/>\n",
              "  </svg>\n",
              "    </button>\n",
              "\n",
              "  <style>\n",
              "    .colab-df-container {\n",
              "      display:flex;\n",
              "      gap: 12px;\n",
              "    }\n",
              "\n",
              "    .colab-df-convert {\n",
              "      background-color: #E8F0FE;\n",
              "      border: none;\n",
              "      border-radius: 50%;\n",
              "      cursor: pointer;\n",
              "      display: none;\n",
              "      fill: #1967D2;\n",
              "      height: 32px;\n",
              "      padding: 0 0 0 0;\n",
              "      width: 32px;\n",
              "    }\n",
              "\n",
              "    .colab-df-convert:hover {\n",
              "      background-color: #E2EBFA;\n",
              "      box-shadow: 0px 1px 2px rgba(60, 64, 67, 0.3), 0px 1px 3px 1px rgba(60, 64, 67, 0.15);\n",
              "      fill: #174EA6;\n",
              "    }\n",
              "\n",
              "    .colab-df-buttons div {\n",
              "      margin-bottom: 4px;\n",
              "    }\n",
              "\n",
              "    [theme=dark] .colab-df-convert {\n",
              "      background-color: #3B4455;\n",
              "      fill: #D2E3FC;\n",
              "    }\n",
              "\n",
              "    [theme=dark] .colab-df-convert:hover {\n",
              "      background-color: #434B5C;\n",
              "      box-shadow: 0px 1px 3px 1px rgba(0, 0, 0, 0.15);\n",
              "      filter: drop-shadow(0px 1px 2px rgba(0, 0, 0, 0.3));\n",
              "      fill: #FFFFFF;\n",
              "    }\n",
              "  </style>\n",
              "\n",
              "    <script>\n",
              "      const buttonEl =\n",
              "        document.querySelector('#df-e952bde8-0c9d-47d4-93e9-3fb973e42f81 button.colab-df-convert');\n",
              "      buttonEl.style.display =\n",
              "        google.colab.kernel.accessAllowed ? 'block' : 'none';\n",
              "\n",
              "      async function convertToInteractive(key) {\n",
              "        const element = document.querySelector('#df-e952bde8-0c9d-47d4-93e9-3fb973e42f81');\n",
              "        const dataTable =\n",
              "          await google.colab.kernel.invokeFunction('convertToInteractive',\n",
              "                                                    [key], {});\n",
              "        if (!dataTable) return;\n",
              "\n",
              "        const docLinkHtml = 'Like what you see? Visit the ' +\n",
              "          '<a target=\"_blank\" href=https://colab.research.google.com/notebooks/data_table.ipynb>data table notebook</a>'\n",
              "          + ' to learn more about interactive tables.';\n",
              "        element.innerHTML = '';\n",
              "        dataTable['output_type'] = 'display_data';\n",
              "        await google.colab.output.renderOutput(dataTable, element);\n",
              "        const docLink = document.createElement('div');\n",
              "        docLink.innerHTML = docLinkHtml;\n",
              "        element.appendChild(docLink);\n",
              "      }\n",
              "    </script>\n",
              "  </div>\n",
              "\n",
              "\n",
              "<div id=\"df-136b8777-b51b-4e5e-87e4-252d1261cbdb\">\n",
              "  <button class=\"colab-df-quickchart\" onclick=\"quickchart('df-136b8777-b51b-4e5e-87e4-252d1261cbdb')\"\n",
              "            title=\"Suggest charts\"\n",
              "            style=\"display:none;\">\n",
              "\n",
              "<svg xmlns=\"http://www.w3.org/2000/svg\" height=\"24px\"viewBox=\"0 0 24 24\"\n",
              "     width=\"24px\">\n",
              "    <g>\n",
              "        <path d=\"M19 3H5c-1.1 0-2 .9-2 2v14c0 1.1.9 2 2 2h14c1.1 0 2-.9 2-2V5c0-1.1-.9-2-2-2zM9 17H7v-7h2v7zm4 0h-2V7h2v10zm4 0h-2v-4h2v4z\"/>\n",
              "    </g>\n",
              "</svg>\n",
              "  </button>\n",
              "\n",
              "<style>\n",
              "  .colab-df-quickchart {\n",
              "      --bg-color: #E8F0FE;\n",
              "      --fill-color: #1967D2;\n",
              "      --hover-bg-color: #E2EBFA;\n",
              "      --hover-fill-color: #174EA6;\n",
              "      --disabled-fill-color: #AAA;\n",
              "      --disabled-bg-color: #DDD;\n",
              "  }\n",
              "\n",
              "  [theme=dark] .colab-df-quickchart {\n",
              "      --bg-color: #3B4455;\n",
              "      --fill-color: #D2E3FC;\n",
              "      --hover-bg-color: #434B5C;\n",
              "      --hover-fill-color: #FFFFFF;\n",
              "      --disabled-bg-color: #3B4455;\n",
              "      --disabled-fill-color: #666;\n",
              "  }\n",
              "\n",
              "  .colab-df-quickchart {\n",
              "    background-color: var(--bg-color);\n",
              "    border: none;\n",
              "    border-radius: 50%;\n",
              "    cursor: pointer;\n",
              "    display: none;\n",
              "    fill: var(--fill-color);\n",
              "    height: 32px;\n",
              "    padding: 0;\n",
              "    width: 32px;\n",
              "  }\n",
              "\n",
              "  .colab-df-quickchart:hover {\n",
              "    background-color: var(--hover-bg-color);\n",
              "    box-shadow: 0 1px 2px rgba(60, 64, 67, 0.3), 0 1px 3px 1px rgba(60, 64, 67, 0.15);\n",
              "    fill: var(--button-hover-fill-color);\n",
              "  }\n",
              "\n",
              "  .colab-df-quickchart-complete:disabled,\n",
              "  .colab-df-quickchart-complete:disabled:hover {\n",
              "    background-color: var(--disabled-bg-color);\n",
              "    fill: var(--disabled-fill-color);\n",
              "    box-shadow: none;\n",
              "  }\n",
              "\n",
              "  .colab-df-spinner {\n",
              "    border: 2px solid var(--fill-color);\n",
              "    border-color: transparent;\n",
              "    border-bottom-color: var(--fill-color);\n",
              "    animation:\n",
              "      spin 1s steps(1) infinite;\n",
              "  }\n",
              "\n",
              "  @keyframes spin {\n",
              "    0% {\n",
              "      border-color: transparent;\n",
              "      border-bottom-color: var(--fill-color);\n",
              "      border-left-color: var(--fill-color);\n",
              "    }\n",
              "    20% {\n",
              "      border-color: transparent;\n",
              "      border-left-color: var(--fill-color);\n",
              "      border-top-color: var(--fill-color);\n",
              "    }\n",
              "    30% {\n",
              "      border-color: transparent;\n",
              "      border-left-color: var(--fill-color);\n",
              "      border-top-color: var(--fill-color);\n",
              "      border-right-color: var(--fill-color);\n",
              "    }\n",
              "    40% {\n",
              "      border-color: transparent;\n",
              "      border-right-color: var(--fill-color);\n",
              "      border-top-color: var(--fill-color);\n",
              "    }\n",
              "    60% {\n",
              "      border-color: transparent;\n",
              "      border-right-color: var(--fill-color);\n",
              "    }\n",
              "    80% {\n",
              "      border-color: transparent;\n",
              "      border-right-color: var(--fill-color);\n",
              "      border-bottom-color: var(--fill-color);\n",
              "    }\n",
              "    90% {\n",
              "      border-color: transparent;\n",
              "      border-bottom-color: var(--fill-color);\n",
              "    }\n",
              "  }\n",
              "</style>\n",
              "\n",
              "  <script>\n",
              "    async function quickchart(key) {\n",
              "      const quickchartButtonEl =\n",
              "        document.querySelector('#' + key + ' button');\n",
              "      quickchartButtonEl.disabled = true;  // To prevent multiple clicks.\n",
              "      quickchartButtonEl.classList.add('colab-df-spinner');\n",
              "      try {\n",
              "        const charts = await google.colab.kernel.invokeFunction(\n",
              "            'suggestCharts', [key], {});\n",
              "      } catch (error) {\n",
              "        console.error('Error during call to suggestCharts:', error);\n",
              "      }\n",
              "      quickchartButtonEl.classList.remove('colab-df-spinner');\n",
              "      quickchartButtonEl.classList.add('colab-df-quickchart-complete');\n",
              "    }\n",
              "    (() => {\n",
              "      let quickchartButtonEl =\n",
              "        document.querySelector('#df-136b8777-b51b-4e5e-87e4-252d1261cbdb button');\n",
              "      quickchartButtonEl.style.display =\n",
              "        google.colab.kernel.accessAllowed ? 'block' : 'none';\n",
              "    })();\n",
              "  </script>\n",
              "</div>\n",
              "\n",
              "    </div>\n",
              "  </div>\n"
            ],
            "application/vnd.google.colaboratory.intrinsic+json": {
              "type": "dataframe",
              "variable_name": "df",
              "summary": "{\n  \"name\": \"df\",\n  \"rows\": 78,\n  \"fields\": [\n    {\n      \"column\": \"diet\",\n      \"properties\": {\n        \"dtype\": \"category\",\n        \"num_unique_values\": 3,\n        \"samples\": [\n          \"B\",\n          \"A\",\n          \"C\"\n        ],\n        \"semantic_type\": \"\",\n        \"description\": \"\"\n      }\n    },\n    {\n      \"column\": \"preweight\",\n      \"properties\": {\n        \"dtype\": \"number\",\n        \"std\": 8,\n        \"min\": 58,\n        \"max\": 103,\n        \"num_unique_values\": 30,\n        \"samples\": [\n          88,\n          68,\n          80\n        ],\n        \"semantic_type\": \"\",\n        \"description\": \"\"\n      }\n    },\n    {\n      \"column\": \"weight6weeks\",\n      \"properties\": {\n        \"dtype\": \"number\",\n        \"std\": 8.924503808714983,\n        \"min\": 53.0,\n        \"max\": 103.0,\n        \"num_unique_values\": 69,\n        \"samples\": [\n          60.3,\n          60.0,\n          79.1\n        ],\n        \"semantic_type\": \"\",\n        \"description\": \"\"\n      }\n    }\n  ]\n}"
            }
          },
          "metadata": {},
          "execution_count": 4
        }
      ],
      "source": [
        "import pandas as pd\n",
        "import numpy as np\n",
        "import seaborn as sns\n",
        "import matplotlib.pyplot as plt\n",
        "from google.colab import drive\n",
        "drive.mount('/content/drive')\n",
        "\n",
        "df = pd.read_csv('/content/drive/My Drive/diet.csv')\n",
        "df.head(5)"
      ]
    },
    {
      "cell_type": "code",
      "source": [
        "#Finding the size of data\n",
        "df.shape[0]"
      ],
      "metadata": {
        "colab": {
          "base_uri": "https://localhost:8080/"
        },
        "id": "NnrJ6Pbag9Nl",
        "outputId": "4f82de38-7d6b-4b82-a707-a4fd894d3744"
      },
      "execution_count": 2,
      "outputs": [
        {
          "output_type": "execute_result",
          "data": {
            "text/plain": [
              "78"
            ]
          },
          "metadata": {},
          "execution_count": 2
        }
      ]
    },
    {
      "cell_type": "code",
      "source": [
        "#Finding the columns of dataset\n",
        "\n",
        "df.info()"
      ],
      "metadata": {
        "colab": {
          "base_uri": "https://localhost:8080/"
        },
        "id": "4JlQRXHyhEuu",
        "outputId": "4f4ac970-0f95-4d3d-f584-e4ecb41e2f6b"
      },
      "execution_count": 3,
      "outputs": [
        {
          "output_type": "stream",
          "name": "stdout",
          "text": [
            "<class 'pandas.core.frame.DataFrame'>\n",
            "RangeIndex: 78 entries, 0 to 77\n",
            "Data columns (total 3 columns):\n",
            " #   Column        Non-Null Count  Dtype  \n",
            "---  ------        --------------  -----  \n",
            " 0   diet          78 non-null     object \n",
            " 1   preweight     78 non-null     int64  \n",
            " 2   weight6weeks  78 non-null     float64\n",
            "dtypes: float64(1), int64(1), object(1)\n",
            "memory usage: 2.0+ KB\n"
          ]
        }
      ]
    },
    {
      "cell_type": "code",
      "source": [
        "df.describe().T"
      ],
      "metadata": {
        "colab": {
          "base_uri": "https://localhost:8080/",
          "height": 112
        },
        "id": "UlVe2lrnifVF",
        "outputId": "83d4fcaf-dbb5-4d62-e002-a7d2e2991b5b"
      },
      "execution_count": 10,
      "outputs": [
        {
          "output_type": "execute_result",
          "data": {
            "text/plain": [
              "              count       mean       std   min    25%    50%     75%    max\n",
              "preweight      78.0  72.525641  8.723344  58.0  66.00  72.00  78.000  103.0\n",
              "weight6weeks   78.0  68.680769  8.924504  53.0  61.85  68.95  73.825  103.0"
            ],
            "text/html": [
              "\n",
              "  <div id=\"df-141e37c0-8161-4927-984e-5664a9ddcdc2\" class=\"colab-df-container\">\n",
              "    <div>\n",
              "<style scoped>\n",
              "    .dataframe tbody tr th:only-of-type {\n",
              "        vertical-align: middle;\n",
              "    }\n",
              "\n",
              "    .dataframe tbody tr th {\n",
              "        vertical-align: top;\n",
              "    }\n",
              "\n",
              "    .dataframe thead th {\n",
              "        text-align: right;\n",
              "    }\n",
              "</style>\n",
              "<table border=\"1\" class=\"dataframe\">\n",
              "  <thead>\n",
              "    <tr style=\"text-align: right;\">\n",
              "      <th></th>\n",
              "      <th>count</th>\n",
              "      <th>mean</th>\n",
              "      <th>std</th>\n",
              "      <th>min</th>\n",
              "      <th>25%</th>\n",
              "      <th>50%</th>\n",
              "      <th>75%</th>\n",
              "      <th>max</th>\n",
              "    </tr>\n",
              "  </thead>\n",
              "  <tbody>\n",
              "    <tr>\n",
              "      <th>preweight</th>\n",
              "      <td>78.0</td>\n",
              "      <td>72.525641</td>\n",
              "      <td>8.723344</td>\n",
              "      <td>58.0</td>\n",
              "      <td>66.00</td>\n",
              "      <td>72.00</td>\n",
              "      <td>78.000</td>\n",
              "      <td>103.0</td>\n",
              "    </tr>\n",
              "    <tr>\n",
              "      <th>weight6weeks</th>\n",
              "      <td>78.0</td>\n",
              "      <td>68.680769</td>\n",
              "      <td>8.924504</td>\n",
              "      <td>53.0</td>\n",
              "      <td>61.85</td>\n",
              "      <td>68.95</td>\n",
              "      <td>73.825</td>\n",
              "      <td>103.0</td>\n",
              "    </tr>\n",
              "  </tbody>\n",
              "</table>\n",
              "</div>\n",
              "    <div class=\"colab-df-buttons\">\n",
              "\n",
              "  <div class=\"colab-df-container\">\n",
              "    <button class=\"colab-df-convert\" onclick=\"convertToInteractive('df-141e37c0-8161-4927-984e-5664a9ddcdc2')\"\n",
              "            title=\"Convert this dataframe to an interactive table.\"\n",
              "            style=\"display:none;\">\n",
              "\n",
              "  <svg xmlns=\"http://www.w3.org/2000/svg\" height=\"24px\" viewBox=\"0 -960 960 960\">\n",
              "    <path d=\"M120-120v-720h720v720H120Zm60-500h600v-160H180v160Zm220 220h160v-160H400v160Zm0 220h160v-160H400v160ZM180-400h160v-160H180v160Zm440 0h160v-160H620v160ZM180-180h160v-160H180v160Zm440 0h160v-160H620v160Z\"/>\n",
              "  </svg>\n",
              "    </button>\n",
              "\n",
              "  <style>\n",
              "    .colab-df-container {\n",
              "      display:flex;\n",
              "      gap: 12px;\n",
              "    }\n",
              "\n",
              "    .colab-df-convert {\n",
              "      background-color: #E8F0FE;\n",
              "      border: none;\n",
              "      border-radius: 50%;\n",
              "      cursor: pointer;\n",
              "      display: none;\n",
              "      fill: #1967D2;\n",
              "      height: 32px;\n",
              "      padding: 0 0 0 0;\n",
              "      width: 32px;\n",
              "    }\n",
              "\n",
              "    .colab-df-convert:hover {\n",
              "      background-color: #E2EBFA;\n",
              "      box-shadow: 0px 1px 2px rgba(60, 64, 67, 0.3), 0px 1px 3px 1px rgba(60, 64, 67, 0.15);\n",
              "      fill: #174EA6;\n",
              "    }\n",
              "\n",
              "    .colab-df-buttons div {\n",
              "      margin-bottom: 4px;\n",
              "    }\n",
              "\n",
              "    [theme=dark] .colab-df-convert {\n",
              "      background-color: #3B4455;\n",
              "      fill: #D2E3FC;\n",
              "    }\n",
              "\n",
              "    [theme=dark] .colab-df-convert:hover {\n",
              "      background-color: #434B5C;\n",
              "      box-shadow: 0px 1px 3px 1px rgba(0, 0, 0, 0.15);\n",
              "      filter: drop-shadow(0px 1px 2px rgba(0, 0, 0, 0.3));\n",
              "      fill: #FFFFFF;\n",
              "    }\n",
              "  </style>\n",
              "\n",
              "    <script>\n",
              "      const buttonEl =\n",
              "        document.querySelector('#df-141e37c0-8161-4927-984e-5664a9ddcdc2 button.colab-df-convert');\n",
              "      buttonEl.style.display =\n",
              "        google.colab.kernel.accessAllowed ? 'block' : 'none';\n",
              "\n",
              "      async function convertToInteractive(key) {\n",
              "        const element = document.querySelector('#df-141e37c0-8161-4927-984e-5664a9ddcdc2');\n",
              "        const dataTable =\n",
              "          await google.colab.kernel.invokeFunction('convertToInteractive',\n",
              "                                                    [key], {});\n",
              "        if (!dataTable) return;\n",
              "\n",
              "        const docLinkHtml = 'Like what you see? Visit the ' +\n",
              "          '<a target=\"_blank\" href=https://colab.research.google.com/notebooks/data_table.ipynb>data table notebook</a>'\n",
              "          + ' to learn more about interactive tables.';\n",
              "        element.innerHTML = '';\n",
              "        dataTable['output_type'] = 'display_data';\n",
              "        await google.colab.output.renderOutput(dataTable, element);\n",
              "        const docLink = document.createElement('div');\n",
              "        docLink.innerHTML = docLinkHtml;\n",
              "        element.appendChild(docLink);\n",
              "      }\n",
              "    </script>\n",
              "  </div>\n",
              "\n",
              "\n",
              "<div id=\"df-de7d16dd-e851-4f4c-923a-5314dcbd4789\">\n",
              "  <button class=\"colab-df-quickchart\" onclick=\"quickchart('df-de7d16dd-e851-4f4c-923a-5314dcbd4789')\"\n",
              "            title=\"Suggest charts\"\n",
              "            style=\"display:none;\">\n",
              "\n",
              "<svg xmlns=\"http://www.w3.org/2000/svg\" height=\"24px\"viewBox=\"0 0 24 24\"\n",
              "     width=\"24px\">\n",
              "    <g>\n",
              "        <path d=\"M19 3H5c-1.1 0-2 .9-2 2v14c0 1.1.9 2 2 2h14c1.1 0 2-.9 2-2V5c0-1.1-.9-2-2-2zM9 17H7v-7h2v7zm4 0h-2V7h2v10zm4 0h-2v-4h2v4z\"/>\n",
              "    </g>\n",
              "</svg>\n",
              "  </button>\n",
              "\n",
              "<style>\n",
              "  .colab-df-quickchart {\n",
              "      --bg-color: #E8F0FE;\n",
              "      --fill-color: #1967D2;\n",
              "      --hover-bg-color: #E2EBFA;\n",
              "      --hover-fill-color: #174EA6;\n",
              "      --disabled-fill-color: #AAA;\n",
              "      --disabled-bg-color: #DDD;\n",
              "  }\n",
              "\n",
              "  [theme=dark] .colab-df-quickchart {\n",
              "      --bg-color: #3B4455;\n",
              "      --fill-color: #D2E3FC;\n",
              "      --hover-bg-color: #434B5C;\n",
              "      --hover-fill-color: #FFFFFF;\n",
              "      --disabled-bg-color: #3B4455;\n",
              "      --disabled-fill-color: #666;\n",
              "  }\n",
              "\n",
              "  .colab-df-quickchart {\n",
              "    background-color: var(--bg-color);\n",
              "    border: none;\n",
              "    border-radius: 50%;\n",
              "    cursor: pointer;\n",
              "    display: none;\n",
              "    fill: var(--fill-color);\n",
              "    height: 32px;\n",
              "    padding: 0;\n",
              "    width: 32px;\n",
              "  }\n",
              "\n",
              "  .colab-df-quickchart:hover {\n",
              "    background-color: var(--hover-bg-color);\n",
              "    box-shadow: 0 1px 2px rgba(60, 64, 67, 0.3), 0 1px 3px 1px rgba(60, 64, 67, 0.15);\n",
              "    fill: var(--button-hover-fill-color);\n",
              "  }\n",
              "\n",
              "  .colab-df-quickchart-complete:disabled,\n",
              "  .colab-df-quickchart-complete:disabled:hover {\n",
              "    background-color: var(--disabled-bg-color);\n",
              "    fill: var(--disabled-fill-color);\n",
              "    box-shadow: none;\n",
              "  }\n",
              "\n",
              "  .colab-df-spinner {\n",
              "    border: 2px solid var(--fill-color);\n",
              "    border-color: transparent;\n",
              "    border-bottom-color: var(--fill-color);\n",
              "    animation:\n",
              "      spin 1s steps(1) infinite;\n",
              "  }\n",
              "\n",
              "  @keyframes spin {\n",
              "    0% {\n",
              "      border-color: transparent;\n",
              "      border-bottom-color: var(--fill-color);\n",
              "      border-left-color: var(--fill-color);\n",
              "    }\n",
              "    20% {\n",
              "      border-color: transparent;\n",
              "      border-left-color: var(--fill-color);\n",
              "      border-top-color: var(--fill-color);\n",
              "    }\n",
              "    30% {\n",
              "      border-color: transparent;\n",
              "      border-left-color: var(--fill-color);\n",
              "      border-top-color: var(--fill-color);\n",
              "      border-right-color: var(--fill-color);\n",
              "    }\n",
              "    40% {\n",
              "      border-color: transparent;\n",
              "      border-right-color: var(--fill-color);\n",
              "      border-top-color: var(--fill-color);\n",
              "    }\n",
              "    60% {\n",
              "      border-color: transparent;\n",
              "      border-right-color: var(--fill-color);\n",
              "    }\n",
              "    80% {\n",
              "      border-color: transparent;\n",
              "      border-right-color: var(--fill-color);\n",
              "      border-bottom-color: var(--fill-color);\n",
              "    }\n",
              "    90% {\n",
              "      border-color: transparent;\n",
              "      border-bottom-color: var(--fill-color);\n",
              "    }\n",
              "  }\n",
              "</style>\n",
              "\n",
              "  <script>\n",
              "    async function quickchart(key) {\n",
              "      const quickchartButtonEl =\n",
              "        document.querySelector('#' + key + ' button');\n",
              "      quickchartButtonEl.disabled = true;  // To prevent multiple clicks.\n",
              "      quickchartButtonEl.classList.add('colab-df-spinner');\n",
              "      try {\n",
              "        const charts = await google.colab.kernel.invokeFunction(\n",
              "            'suggestCharts', [key], {});\n",
              "      } catch (error) {\n",
              "        console.error('Error during call to suggestCharts:', error);\n",
              "      }\n",
              "      quickchartButtonEl.classList.remove('colab-df-spinner');\n",
              "      quickchartButtonEl.classList.add('colab-df-quickchart-complete');\n",
              "    }\n",
              "    (() => {\n",
              "      let quickchartButtonEl =\n",
              "        document.querySelector('#df-de7d16dd-e851-4f4c-923a-5314dcbd4789 button');\n",
              "      quickchartButtonEl.style.display =\n",
              "        google.colab.kernel.accessAllowed ? 'block' : 'none';\n",
              "    })();\n",
              "  </script>\n",
              "</div>\n",
              "\n",
              "    </div>\n",
              "  </div>\n"
            ],
            "application/vnd.google.colaboratory.intrinsic+json": {
              "type": "dataframe",
              "summary": "{\n  \"name\": \"df\",\n  \"rows\": 2,\n  \"fields\": [\n    {\n      \"column\": \"count\",\n      \"properties\": {\n        \"dtype\": \"number\",\n        \"std\": 0.0,\n        \"min\": 78.0,\n        \"max\": 78.0,\n        \"num_unique_values\": 1,\n        \"samples\": [\n          78.0\n        ],\n        \"semantic_type\": \"\",\n        \"description\": \"\"\n      }\n    },\n    {\n      \"column\": \"mean\",\n      \"properties\": {\n        \"dtype\": \"number\",\n        \"std\": 2.718734918946737,\n        \"min\": 68.68076923076923,\n        \"max\": 72.52564102564102,\n        \"num_unique_values\": 2,\n        \"samples\": [\n          68.68076923076923\n        ],\n        \"semantic_type\": \"\",\n        \"description\": \"\"\n      }\n    },\n    {\n      \"column\": \"std\",\n      \"properties\": {\n        \"dtype\": \"number\",\n        \"std\": 0.14224121946229823,\n        \"min\": 8.723344347022913,\n        \"max\": 8.924503808714983,\n        \"num_unique_values\": 2,\n        \"samples\": [\n          8.924503808714983\n        ],\n        \"semantic_type\": \"\",\n        \"description\": \"\"\n      }\n    },\n    {\n      \"column\": \"min\",\n      \"properties\": {\n        \"dtype\": \"number\",\n        \"std\": 3.5355339059327378,\n        \"min\": 53.0,\n        \"max\": 58.0,\n        \"num_unique_values\": 2,\n        \"samples\": [\n          53.0\n        ],\n        \"semantic_type\": \"\",\n        \"description\": \"\"\n      }\n    },\n    {\n      \"column\": \"25%\",\n      \"properties\": {\n        \"dtype\": \"number\",\n        \"std\": 2.934493141924176,\n        \"min\": 61.849999999999994,\n        \"max\": 66.0,\n        \"num_unique_values\": 2,\n        \"samples\": [\n          61.849999999999994\n        ],\n        \"semantic_type\": \"\",\n        \"description\": \"\"\n      }\n    },\n    {\n      \"column\": \"50%\",\n      \"properties\": {\n        \"dtype\": \"number\",\n        \"std\": 2.156675682618968,\n        \"min\": 68.95,\n        \"max\": 72.0,\n        \"num_unique_values\": 2,\n        \"samples\": [\n          68.95\n        ],\n        \"semantic_type\": \"\",\n        \"description\": \"\"\n      }\n    },\n    {\n      \"column\": \"75%\",\n      \"properties\": {\n        \"dtype\": \"number\",\n        \"std\": 2.952170811453834,\n        \"min\": 73.825,\n        \"max\": 78.0,\n        \"num_unique_values\": 2,\n        \"samples\": [\n          73.825\n        ],\n        \"semantic_type\": \"\",\n        \"description\": \"\"\n      }\n    },\n    {\n      \"column\": \"max\",\n      \"properties\": {\n        \"dtype\": \"number\",\n        \"std\": 0.0,\n        \"min\": 103.0,\n        \"max\": 103.0,\n        \"num_unique_values\": 1,\n        \"samples\": [\n          103.0\n        ],\n        \"semantic_type\": \"\",\n        \"description\": \"\"\n      }\n    }\n  ]\n}"
            }
          },
          "metadata": {},
          "execution_count": 10
        }
      ]
    },
    {
      "cell_type": "code",
      "source": [
        "#checking if there are null values\n",
        "\n",
        "df.isnull().sum().sum()"
      ],
      "metadata": {
        "colab": {
          "base_uri": "https://localhost:8080/"
        },
        "id": "hKEeRFbKjNOU",
        "outputId": "acea1851-22db-40df-e21d-5be49141e21c"
      },
      "execution_count": 7,
      "outputs": [
        {
          "output_type": "execute_result",
          "data": {
            "text/plain": [
              "0"
            ]
          },
          "metadata": {},
          "execution_count": 7
        }
      ]
    },
    {
      "cell_type": "markdown",
      "source": [
        "There are no duplicates in the data"
      ],
      "metadata": {
        "id": "ZhLVQwLYje8y"
      }
    },
    {
      "cell_type": "code",
      "source": [
        "#check if there are duplicate values\n",
        "\n",
        "df.duplicated().sum()"
      ],
      "metadata": {
        "colab": {
          "base_uri": "https://localhost:8080/"
        },
        "id": "qhdvL5KSjSHL",
        "outputId": "6012370a-a214-408d-d74f-ce2b4c4d6248"
      },
      "execution_count": 9,
      "outputs": [
        {
          "output_type": "execute_result",
          "data": {
            "text/plain": [
              "0"
            ]
          },
          "metadata": {},
          "execution_count": 9
        }
      ]
    },
    {
      "cell_type": "markdown",
      "source": [
        "There are no null values in the dataset."
      ],
      "metadata": {
        "id": "FEp2ta0GjicN"
      }
    },
    {
      "cell_type": "code",
      "source": [
        "#Lokking at the various types of diet\n",
        "\n",
        "df['diet'].unique()"
      ],
      "metadata": {
        "colab": {
          "base_uri": "https://localhost:8080/"
        },
        "id": "KDBSUCClkR9H",
        "outputId": "015a280c-d13f-4f66-b48d-087089035c44"
      },
      "execution_count": 12,
      "outputs": [
        {
          "output_type": "execute_result",
          "data": {
            "text/plain": [
              "array(['B', 'A', 'C'], dtype=object)"
            ]
          },
          "metadata": {},
          "execution_count": 12
        }
      ]
    },
    {
      "cell_type": "markdown",
      "source": [
        "# Explorartory data analysis"
      ],
      "metadata": {
        "id": "3BMXe-hmj49G"
      }
    },
    {
      "cell_type": "code",
      "source": [
        "def hist_bar_plot(data,feature,kde=False,nbins=50):\n",
        "\n",
        "  fig,(ax1,ax2)=plt.subplots(figsize=(15,10),\n",
        "                             nrows=2,\n",
        "                             sharex=True,\n",
        "                             gridspec_kw={'height_ratios':(0.25,0.75)}\n",
        "                             )\n",
        "  if(nbins):\n",
        "   sns.histplot(data=data,\n",
        "               x=feature,\n",
        "               kde=kde,\n",
        "               ax=ax2,\n",
        "               bins=nbins)\n",
        "  else:\n",
        "   sns.histplot(data=data,\n",
        "                x=feature,\n",
        "                ax=ax2,\n",
        "                kde=kde)\n",
        "   ax2.axvline(df.feature.mean(),\n",
        "               color='red',\n",
        "               linestyle='--',\n",
        "               label='mean')\n",
        "   ax2.axvline(df.feature.median(),\n",
        "               color='green',\n",
        "               linestyle='-',\n",
        "               label='median')\n",
        "   ax2.legend()\n",
        "\n",
        "#plotting a boxplot\n",
        "  sns.boxplot(data=df,\n",
        "              x=feature,\n",
        "              ax=ax1,\n",
        "            )\n",
        "\n",
        "  plt.show()\n",
        "\n"
      ],
      "metadata": {
        "id": "GTdCGaebkLQG"
      },
      "execution_count": 28,
      "outputs": []
    },
    {
      "cell_type": "code",
      "source": [
        "#Histogram and boxplot for preweight and weight6weeks\n",
        "hist_bar_plot(data=df,feature='preweight',kde=True,nbins=30)"
      ],
      "metadata": {
        "colab": {
          "base_uri": "https://localhost:8080/",
          "height": 850
        },
        "id": "4Qep2Mk2wmGT",
        "outputId": "384334f1-41a1-4d1b-dda2-b968f12b14d1"
      },
      "execution_count": 32,
      "outputs": [
        {
          "output_type": "display_data",
          "data": {
            "text/plain": [
              "<Figure size 1500x1000 with 2 Axes>"
            ],
            "image/png": "[encoded data removed]"
          },
          "metadata": {}
        }
      ]
    },
    {
      "cell_type": "markdown",
      "source": [],
      "metadata": {
        "id": "Uw7A1Hqo7AfY"
      }
    },
    {
      "cell_type": "markdown",
      "source": [
        "We infer that preweight is skewed to right.\n",
        "Mean and median weight lies around 70 kg for pre-weight\n"
      ],
      "metadata": {
        "id": "_kF5dTwN1vsm"
      }
    },
    {
      "cell_type": "code",
      "source": [
        "#Histogram and boxplot for weight6weeks\n",
        "hist_bar_plot(data=df,feature='weight6weeks',kde=True,nbins=30)"
      ],
      "metadata": {
        "colab": {
          "base_uri": "https://localhost:8080/",
          "height": 850
        },
        "id": "sIOITgsE1s-M",
        "outputId": "20e6d6f1-10bc-4d7d-d8d8-745272fb14c9"
      },
      "execution_count": 37,
      "outputs": [
        {
          "output_type": "display_data",
          "data": {
            "text/plain": [
              "<Figure size 1500x1000 with 2 Axes>"
            ],
            "image/png": "[encoded data removed]"
          },
          "metadata": {}
        }
      ]
    },
    {
      "cell_type": "markdown",
      "source": [],
      "metadata": {
        "id": "54GHgUbqj9Bi"
      }
    },
    {
      "cell_type": "code",
      "source": [
        "f,ax = plt.subplots(figsize=(10,8))\n",
        "\n",
        "sns.countplot(data=df,\n",
        "              x='diet',\n",
        "              order=df['diet'].value_counts().index,\n",
        "              hue='diet',\n",
        "              ax=ax)\n",
        "\n",
        "total_len = len(df)\n",
        "\n",
        "for p in ax.patches:\n",
        "  height = p.get_height()\n",
        "\n",
        "  label = '{:1.2f}%'.format(height/total_len)\n",
        "  x = p.get_x()+(p.get_width()/2)\n",
        "  y = height\n",
        "\n",
        "  ax.annotate(\n",
        "              label,\n",
        "              (x,y),\n",
        "              ha='center',\n",
        "              va='center',\n",
        "              fontsize=12,\n",
        "              xytext=(0,5),\n",
        "              textcoords='offset points'\n",
        "            )"
      ],
      "metadata": {
        "colab": {
          "base_uri": "https://localhost:8080/",
          "height": 696
        },
        "id": "zCrB7RNJ2m71",
        "outputId": "81f74ae8-3950-4ee0-ac2e-2c4e5fb1cd84"
      },
      "execution_count": 49,
      "outputs": [
        {
          "output_type": "display_data",
          "data": {
            "text/plain": [
              "<Figure size 1000x800 with 1 Axes>"
            ],
            "image/png": "[encoded data removed]"
          },
          "metadata": {}
        }
      ]
    },
    {
      "cell_type": "markdown",
      "source": [
        "Multi-Variate Analysis"
      ],
      "metadata": {
        "id": "alupVuu94te6"
      }
    },
    {
      "cell_type": "code",
      "source": [
        "#let us plot a heatmap\n",
        "\n",
        "var_list = df.select_dtypes(include=np.number).columns.to_list()\n",
        "sns.heatmap(df[var_list].corr(),\n",
        "          annot=True,\n",
        "          cmap='Spectral',\n",
        "          fmt='.2f',\n",
        "          vmin=-1,\n",
        "          vmax=1,\n",
        "          cbar=True)"
      ],
      "metadata": {
        "colab": {
          "base_uri": "https://localhost:8080/",
          "height": 453
        },
        "id": "uQdnPQ0c4s_k",
        "outputId": "76367720-80af-442d-8ef1-1b77345ca0ea"
      },
      "execution_count": 55,
      "outputs": [
        {
          "output_type": "execute_result",
          "data": {
            "text/plain": [
              "<Axes: >"
            ]
          },
          "metadata": {},
          "execution_count": 55
        },
        {
          "output_type": "display_data",
          "data": {
            "text/plain": [
              "<Figure size 640x480 with 2 Axes>"
            ],
            "image/png": "[encoded data removed]"
          },
          "metadata": {}
        }
      ]
    },
    {
      "cell_type": "markdown",
      "source": [
        "The multivariate analysis show that pre-weight and weight-after 6 weeks are higly postively corelated."
      ],
      "metadata": {
        "id": "2N7gyp0I6DDx"
      }
    },
    {
      "cell_type": "code",
      "source": [
        "var_list"
      ],
      "metadata": {
        "colab": {
          "base_uri": "https://localhost:8080/"
        },
        "id": "_RcpPUxu5QTe",
        "outputId": "3b413d77-f14f-45ce-cdfd-7e890a0415b6"
      },
      "execution_count": 51,
      "outputs": [
        {
          "output_type": "execute_result",
          "data": {
            "text/plain": [
              "['preweight', 'weight6weeks']"
            ]
          },
          "metadata": {},
          "execution_count": 51
        }
      ]
    },
    {
      "cell_type": "markdown",
      "source": [
        "# Feature Engineering"
      ],
      "metadata": {
        "id": "Q85dngcW6pbH"
      }
    },
    {
      "cell_type": "code",
      "source": [
        "#Let us see weightloss for each type of diet\n",
        "\n",
        "df['weight_loss'] = df['weight6weeks'] - df['preweight']\n",
        "df.head()\n",
        "\n",
        "sns.boxplot(\n",
        "    data=df,\n",
        "    x='diet',\n",
        "    y='weight_loss',\n",
        "    hue='diet',\n",
        ")"
      ],
      "metadata": {
        "colab": {
          "base_uri": "https://localhost:8080/",
          "height": 467
        },
        "id": "1AdfewqF6oE5",
        "outputId": "60919b27-3817-41e8-e280-abe88fb5f5bf"
      },
      "execution_count": 5,
      "outputs": [
        {
          "output_type": "execute_result",
          "data": {
            "text/plain": [
              "<Axes: xlabel='diet', ylabel='weight_loss'>"
            ]
          },
          "metadata": {},
          "execution_count": 5
        },
        {
          "output_type": "display_data",
          "data": {
            "text/plain": [
              "<Figure size 640x480 with 1 Axes>"
            ],
            "image/png": "[encoded data removed]"
          },
          "metadata": {}
        }
      ]
    },
    {
      "cell_type": "markdown",
      "source": [
        "The distribution of weight loss is different among different groups.\n",
        "It is observed that group C diet impact more on weight loss.\n",
        "We infer that media  weight loss of group A and Group B are almost same but the median weight loss of group C is different.\n",
        "\n",
        "Let us check statistically if the weight loss is same across all groups."
      ],
      "metadata": {
        "id": "ziLEW1XL7ODt"
      }
    },
    {
      "cell_type": "markdown",
      "source": [
        "# Statistically prove if mean weight loss is same across all diets"
      ],
      "metadata": {
        "id": "WEEn2jqs7GIV"
      }
    },
    {
      "cell_type": "markdown",
      "source": [
        "## Step 1: Define Null and Alterante Hypothesis"
      ],
      "metadata": {
        "id": "8fyBbhK7708b"
      }
    },
    {
      "cell_type": "markdown",
      "source": [
        "Null Hypothsis: Mean weight loss is equal across all diets.\n",
        "\n",
        "Alternate Hypothesis: Atleast one diet program's mean value of weight loss is different from the rest diets."
      ],
      "metadata": {
        "id": "28FhgJn78Hko"
      }
    },
    {
      "cell_type": "markdown",
      "source": [
        "## Step 2: Select Appropriate Test"
      ],
      "metadata": {
        "id": "RUhxjsPS8mVp"
      }
    },
    {
      "cell_type": "markdown",
      "source": [
        "We are testing equality of means of 3 different diets.\n",
        "Hence we choose f_oneway test.\n",
        "\n",
        "The samples are simple random samples.\n",
        "Let us use Shapiro wilks test and Levenes test for testing equality of means\n",
        "and equality of varaiance.\n",
        "\n"
      ],
      "metadata": {
        "id": "VjSypske8x15"
      }
    },
    {
      "cell_type": "markdown",
      "source": [
        "### Shapiro wilks test"
      ],
      "metadata": {
        "id": "X3fuam9V9lGB"
      }
    },
    {
      "cell_type": "markdown",
      "source": [
        "Null Hypothesis: Data follows normal distribution\n",
        "\n",
        "Alternate Hypothesis: Data does not follow normal distribution"
      ],
      "metadata": {
        "id": "bdbLhGTI9tOU"
      }
    },
    {
      "cell_type": "code",
      "source": [
        "from scipy.stats import shapiro\n",
        "\n",
        "test_static,p_value = shapiro(df['weight_loss'])\n",
        "\n",
        "if p_value < 0.05:\n",
        "  print('Data does not follow normal distribution')\n",
        "else:\n",
        "  print('Data follows normal distribution')\n",
        "\n",
        "print(test_static,p_value)"
      ],
      "metadata": {
        "colab": {
          "base_uri": "https://localhost:8080/"
        },
        "id": "GXOJucLl8BYB",
        "outputId": "325f3d0f-e7bb-40b7-99a2-7129180f5acb"
      },
      "execution_count": 6,
      "outputs": [
        {
          "output_type": "stream",
          "name": "stdout",
          "text": [
            "Data follows normal distribution\n",
            "0.989908178957397 0.8019883459468051\n"
          ]
        }
      ]
    },
    {
      "cell_type": "markdown",
      "source": [
        "###Levene's test"
      ],
      "metadata": {
        "id": "l2daoldY-Ud_"
      }
    },
    {
      "cell_type": "markdown",
      "source": [
        "Null Hypothesis: variance of weight loss is same across each diet\n",
        "\n",
        "Alternate Hypothesis: variance of weight loss of atleast one ot the three diets is different"
      ],
      "metadata": {
        "id": "J7f4btJx-dIK"
      }
    },
    {
      "cell_type": "code",
      "source": [
        "from scipy.stats import levene\n",
        "\n",
        "#performing levene's test\n",
        "test_static,p_value = levene(df[df['diet']=='A']['weight_loss'],\n",
        "                             df[df['diet']=='B']['weight_loss'],\n",
        "                             df[df['diet']=='C']['weight_loss'])\n",
        "print(test_static,p_value)"
      ],
      "metadata": {
        "colab": {
          "base_uri": "https://localhost:8080/"
        },
        "id": "sCoPtWA_-aNP",
        "outputId": "5dd63eb3-ab8b-4383-dd8b-537971fb8031"
      },
      "execution_count": 16,
      "outputs": [
        {
          "output_type": "stream",
          "name": "stdout",
          "text": [
            "0.6256665777896312 0.5376731304274011\n"
          ]
        }
      ]
    },
    {
      "cell_type": "code",
      "source": [
        "if p_value<= 0.05:\n",
        "  print('Variance of weight loss of atleast one diet is different')\n",
        "else:\n",
        "  print('Variance of weight loss is same across diets')"
      ],
      "metadata": {
        "colab": {
          "base_uri": "https://localhost:8080/"
        },
        "id": "i2_sPHw2BKea",
        "outputId": "97c8def7-20e2-48a1-f63a-4c213a6ff087"
      },
      "execution_count": 24,
      "outputs": [
        {
          "output_type": "stream",
          "name": "stdout",
          "text": [
            "Variance of weight loss is same across diets\n"
          ]
        }
      ]
    },
    {
      "cell_type": "markdown",
      "source": [
        "Since the P value is greater than 5% Null hypothesis is not rejected.\n",
        "THus the variance of weight_loss of all three diet methods are same."
      ],
      "metadata": {
        "id": "hQ0SpsYeBJ3G"
      }
    },
    {
      "cell_type": "markdown",
      "source": [
        "##Step 3: Choosing the significance Level"
      ],
      "metadata": {
        "id": "KbR6-L2lBpZM"
      }
    },
    {
      "cell_type": "code",
      "source": [
        "alpha = 0.05\n",
        "#we will do hypothesis testing at 5% significance level"
      ],
      "metadata": {
        "id": "2ID_0qkzBtwo"
      },
      "execution_count": null,
      "outputs": []
    },
    {
      "cell_type": "markdown",
      "source": [
        "##Step 4: Prepare/Collect data"
      ],
      "metadata": {
        "id": "bF5phxzGBzxN"
      }
    },
    {
      "cell_type": "code",
      "source": [
        "diet_a = df[df['diet']=='A']['weight_loss']\n",
        "diet_b = df[df['diet']=='B']['weight_loss']\n",
        "diet_c = df[df['diet']=='C']['weight_loss']"
      ],
      "metadata": {
        "id": "iI600A_lB7AT"
      },
      "execution_count": 25,
      "outputs": []
    },
    {
      "cell_type": "markdown",
      "source": [
        "##Step 5: Perform the test"
      ],
      "metadata": {
        "id": "YEMKiKtgB_64"
      }
    },
    {
      "cell_type": "code",
      "source": [
        "from scipy.stats import f_oneway\n",
        "\n",
        "test_static,p_value = f_oneway(diet_a,diet_b,diet_c)\n",
        "print(test_static,p_value)"
      ],
      "metadata": {
        "colab": {
          "base_uri": "https://localhost:8080/"
        },
        "id": "NYOZmqITCC7i",
        "outputId": "c8ba52f7-50b8-47a0-b3ea-14455080faf2"
      },
      "execution_count": 26,
      "outputs": [
        {
          "output_type": "stream",
          "name": "stdout",
          "text": [
            "6.197447453165349 0.0032290142385893524\n"
          ]
        }
      ]
    },
    {
      "cell_type": "markdown",
      "source": [
        "##Step 6: Compare p-value with alpha"
      ],
      "metadata": {
        "id": "nXy6n4TDCPed"
      }
    },
    {
      "cell_type": "code",
      "source": [
        "if(p_value<=0.05):\n",
        "  print('Reject the Null Hypothesis - Mean value of diet is same across all diets')\n",
        "else:\n",
        "  print('Do not Reject Null Hypothesis - Mean value of diet is not same across all diets')"
      ],
      "metadata": {
        "colab": {
          "base_uri": "https://localhost:8080/"
        },
        "id": "8_p8kgZdCTiY",
        "outputId": "e6be885d-7dd4-4344-95b7-1b9b6d8065b2"
      },
      "execution_count": 28,
      "outputs": [
        {
          "output_type": "stream",
          "name": "stdout",
          "text": [
            "Reject the Null Hypothesis - Mean value of diet is same across all diets\n"
          ]
        }
      ]
    },
    {
      "cell_type": "markdown",
      "source": [
        "##Step 7: Draw Inference"
      ],
      "metadata": {
        "id": "rKKTTAx5C3So"
      }
    },
    {
      "cell_type": "markdown",
      "source": [
        "Thus we have enough statistical evidence to say that mean value across all diets is not the same. At least one mean value among the 3 diets differ."
      ],
      "metadata": {
        "id": "peU7ZPokC7aL"
      }
    },
    {
      "cell_type": "code",
      "source": [],
      "metadata": {
        "id": "vGlQbUU4C5vD"
      },
      "execution_count": null,
      "outputs": []
    },
    {
      "cell_type": "markdown",
      "source": [
        "#Conclusion"
      ],
      "metadata": {
        "id": "k6ne88FNET8P"
      }
    },
    {
      "cell_type": "markdown",
      "source": [
        "We observe that all 3 diets aid in weight loss\n",
        "\n",
        "Of all 3 diets Diet 'C' seem to have high impact\n",
        "\n",
        "After hypothesis testing we conclude that atleast one diet is different from all other diets\n",
        "\n",
        "More investigation can be done of diet 'C'"
      ],
      "metadata": {
        "id": "6MKtVcu7EYEa"
      }
    }
  ]
}