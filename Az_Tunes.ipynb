{
  "nbformat": 4,
  "nbformat_minor": 0,
  "metadata": {
    "colab": {
      "provenance": [],
      "collapsed_sections": [
        "b_XuyEhbxHw7",
        "I1P1WmplxOEy",
        "YJ7Jk39Pxx1J",
        "-qqxg4l_zImi",
        "H4sQOlzA00ZX",
        "RK-oAxyK_mGc",
        "wT1ko3odASNX",
        "GxTuCxrNCBaD",
        "iT62fKNdFQp4",
        "W_WIN56bDtW-",
        "R3zG7Q18EnKV"
      ]
    },
    "kernelspec": {
      "name": "python3",
      "display_name": "Python 3"
    },
    "language_info": {
      "name": "python"
    }
  },
  "cells": [
    {
      "cell_type": "code",
      "execution_count": 1,
      "metadata": {
        "colab": {
          "base_uri": "https://localhost:8080/",
          "height": 381
        },
        "id": "tDX9cheBYWwz",
        "outputId": "30156c6f-d9a6-485f-c9a4-d6567a1db5f4"
      },
      "outputs": [
        {
          "output_type": "stream",
          "name": "stdout",
          "text": [
            "Mounted at /content/drive\n"
          ]
        },
        {
          "output_type": "execute_result",
          "data": {
            "text/plain": [
              "     user_id    age_group subscription_status  engagement_time\n",
              "798    17746  35 and over      not_subscribed             4.09\n",
              "401    11493  35 and over      not_subscribed             2.86\n",
              "760    12913  35 and over      not_subscribed             2.23\n",
              "715    13804        18-34          subscribed            10.66\n",
              "458    13276  35 and over      not_subscribed             7.00\n",
              "835    17326  35 and over      not_subscribed             2.02\n",
              "603    15842     under 18      not_subscribed             5.16\n",
              "876    12684  35 and over      not_subscribed             4.17\n",
              "66     11080  35 and over      not_subscribed             7.00\n",
              "944    17449  35 and over          subscribed             5.12"
            ],
            "text/html": [
              "\n",
              "  <div id=\"df-8c071652-7a62-4767-a3f6-feebbde71e50\" class=\"colab-df-container\">\n",
              "    <div>\n",
              "<style scoped>\n",
              "    .dataframe tbody tr th:only-of-type {\n",
              "        vertical-align: middle;\n",
              "    }\n",
              "\n",
              "    .dataframe tbody tr th {\n",
              "        vertical-align: top;\n",
              "    }\n",
              "\n",
              "    .dataframe thead th {\n",
              "        text-align: right;\n",
              "    }\n",
              "</style>\n",
              "<table border=\"1\" class=\"dataframe\">\n",
              "  <thead>\n",
              "    <tr style=\"text-align: right;\">\n",
              "      <th></th>\n",
              "      <th>user_id</th>\n",
              "      <th>age_group</th>\n",
              "      <th>subscription_status</th>\n",
              "      <th>engagement_time</th>\n",
              "    </tr>\n",
              "  </thead>\n",
              "  <tbody>\n",
              "    <tr>\n",
              "      <th>798</th>\n",
              "      <td>17746</td>\n",
              "      <td>35 and over</td>\n",
              "      <td>not_subscribed</td>\n",
              "      <td>4.09</td>\n",
              "    </tr>\n",
              "    <tr>\n",
              "      <th>401</th>\n",
              "      <td>11493</td>\n",
              "      <td>35 and over</td>\n",
              "      <td>not_subscribed</td>\n",
              "      <td>2.86</td>\n",
              "    </tr>\n",
              "    <tr>\n",
              "      <th>760</th>\n",
              "      <td>12913</td>\n",
              "      <td>35 and over</td>\n",
              "      <td>not_subscribed</td>\n",
              "      <td>2.23</td>\n",
              "    </tr>\n",
              "    <tr>\n",
              "      <th>715</th>\n",
              "      <td>13804</td>\n",
              "      <td>18-34</td>\n",
              "      <td>subscribed</td>\n",
              "      <td>10.66</td>\n",
              "    </tr>\n",
              "    <tr>\n",
              "      <th>458</th>\n",
              "      <td>13276</td>\n",
              "      <td>35 and over</td>\n",
              "      <td>not_subscribed</td>\n",
              "      <td>7.00</td>\n",
              "    </tr>\n",
              "    <tr>\n",
              "      <th>835</th>\n",
              "      <td>17326</td>\n",
              "      <td>35 and over</td>\n",
              "      <td>not_subscribed</td>\n",
              "      <td>2.02</td>\n",
              "    </tr>\n",
              "    <tr>\n",
              "      <th>603</th>\n",
              "      <td>15842</td>\n",
              "      <td>under 18</td>\n",
              "      <td>not_subscribed</td>\n",
              "      <td>5.16</td>\n",
              "    </tr>\n",
              "    <tr>\n",
              "      <th>876</th>\n",
              "      <td>12684</td>\n",
              "      <td>35 and over</td>\n",
              "      <td>not_subscribed</td>\n",
              "      <td>4.17</td>\n",
              "    </tr>\n",
              "    <tr>\n",
              "      <th>66</th>\n",
              "      <td>11080</td>\n",
              "      <td>35 and over</td>\n",
              "      <td>not_subscribed</td>\n",
              "      <td>7.00</td>\n",
              "    </tr>\n",
              "    <tr>\n",
              "      <th>944</th>\n",
              "      <td>17449</td>\n",
              "      <td>35 and over</td>\n",
              "      <td>subscribed</td>\n",
              "      <td>5.12</td>\n",
              "    </tr>\n",
              "  </tbody>\n",
              "</table>\n",
              "</div>\n",
              "    <div class=\"colab-df-buttons\">\n",
              "\n",
              "  <div class=\"colab-df-container\">\n",
              "    <button class=\"colab-df-convert\" onclick=\"convertToInteractive('df-8c071652-7a62-4767-a3f6-feebbde71e50')\"\n",
              "            title=\"Convert this dataframe to an interactive table.\"\n",
              "            style=\"display:none;\">\n",
              "\n",
              "  <svg xmlns=\"http://www.w3.org/2000/svg\" height=\"24px\" viewBox=\"0 -960 960 960\">\n",
              "    <path d=\"M120-120v-720h720v720H120Zm60-500h600v-160H180v160Zm220 220h160v-160H400v160Zm0 220h160v-160H400v160ZM180-400h160v-160H180v160Zm440 0h160v-160H620v160ZM180-180h160v-160H180v160Zm440 0h160v-160H620v160Z\"/>\n",
              "  </svg>\n",
              "    </button>\n",
              "\n",
              "  <style>\n",
              "    .colab-df-container {\n",
              "      display:flex;\n",
              "      gap: 12px;\n",
              "    }\n",
              "\n",
              "    .colab-df-convert {\n",
              "      background-color: #E8F0FE;\n",
              "      border: none;\n",
              "      border-radius: 50%;\n",
              "      cursor: pointer;\n",
              "      display: none;\n",
              "      fill: #1967D2;\n",
              "      height: 32px;\n",
              "      padding: 0 0 0 0;\n",
              "      width: 32px;\n",
              "    }\n",
              "\n",
              "    .colab-df-convert:hover {\n",
              "      background-color: #E2EBFA;\n",
              "      box-shadow: 0px 1px 2px rgba(60, 64, 67, 0.3), 0px 1px 3px 1px rgba(60, 64, 67, 0.15);\n",
              "      fill: #174EA6;\n",
              "    }\n",
              "\n",
              "    .colab-df-buttons div {\n",
              "      margin-bottom: 4px;\n",
              "    }\n",
              "\n",
              "    [theme=dark] .colab-df-convert {\n",
              "      background-color: #3B4455;\n",
              "      fill: #D2E3FC;\n",
              "    }\n",
              "\n",
              "    [theme=dark] .colab-df-convert:hover {\n",
              "      background-color: #434B5C;\n",
              "      box-shadow: 0px 1px 3px 1px rgba(0, 0, 0, 0.15);\n",
              "      filter: drop-shadow(0px 1px 2px rgba(0, 0, 0, 0.3));\n",
              "      fill: #FFFFFF;\n",
              "    }\n",
              "  </style>\n",
              "\n",
              "    <script>\n",
              "      const buttonEl =\n",
              "        document.querySelector('#df-8c071652-7a62-4767-a3f6-feebbde71e50 button.colab-df-convert');\n",
              "      buttonEl.style.display =\n",
              "        google.colab.kernel.accessAllowed ? 'block' : 'none';\n",
              "\n",
              "      async function convertToInteractive(key) {\n",
              "        const element = document.querySelector('#df-8c071652-7a62-4767-a3f6-feebbde71e50');\n",
              "        const dataTable =\n",
              "          await google.colab.kernel.invokeFunction('convertToInteractive',\n",
              "                                                    [key], {});\n",
              "        if (!dataTable) return;\n",
              "\n",
              "        const docLinkHtml = 'Like what you see? Visit the ' +\n",
              "          '<a target=\"_blank\" href=https://colab.research.google.com/notebooks/data_table.ipynb>data table notebook</a>'\n",
              "          + ' to learn more about interactive tables.';\n",
              "        element.innerHTML = '';\n",
              "        dataTable['output_type'] = 'display_data';\n",
              "        await google.colab.output.renderOutput(dataTable, element);\n",
              "        const docLink = document.createElement('div');\n",
              "        docLink.innerHTML = docLinkHtml;\n",
              "        element.appendChild(docLink);\n",
              "      }\n",
              "    </script>\n",
              "  </div>\n",
              "\n",
              "\n",
              "<div id=\"df-03353195-2499-4ada-af44-6a51aee6b5f7\">\n",
              "  <button class=\"colab-df-quickchart\" onclick=\"quickchart('df-03353195-2499-4ada-af44-6a51aee6b5f7')\"\n",
              "            title=\"Suggest charts\"\n",
              "            style=\"display:none;\">\n",
              "\n",
              "<svg xmlns=\"http://www.w3.org/2000/svg\" height=\"24px\"viewBox=\"0 0 24 24\"\n",
              "     width=\"24px\">\n",
              "    <g>\n",
              "        <path d=\"M19 3H5c-1.1 0-2 .9-2 2v14c0 1.1.9 2 2 2h14c1.1 0 2-.9 2-2V5c0-1.1-.9-2-2-2zM9 17H7v-7h2v7zm4 0h-2V7h2v10zm4 0h-2v-4h2v4z\"/>\n",
              "    </g>\n",
              "</svg>\n",
              "  </button>\n",
              "\n",
              "<style>\n",
              "  .colab-df-quickchart {\n",
              "      --bg-color: #E8F0FE;\n",
              "      --fill-color: #1967D2;\n",
              "      --hover-bg-color: #E2EBFA;\n",
              "      --hover-fill-color: #174EA6;\n",
              "      --disabled-fill-color: #AAA;\n",
              "      --disabled-bg-color: #DDD;\n",
              "  }\n",
              "\n",
              "  [theme=dark] .colab-df-quickchart {\n",
              "      --bg-color: #3B4455;\n",
              "      --fill-color: #D2E3FC;\n",
              "      --hover-bg-color: #434B5C;\n",
              "      --hover-fill-color: #FFFFFF;\n",
              "      --disabled-bg-color: #3B4455;\n",
              "      --disabled-fill-color: #666;\n",
              "  }\n",
              "\n",
              "  .colab-df-quickchart {\n",
              "    background-color: var(--bg-color);\n",
              "    border: none;\n",
              "    border-radius: 50%;\n",
              "    cursor: pointer;\n",
              "    display: none;\n",
              "    fill: var(--fill-color);\n",
              "    height: 32px;\n",
              "    padding: 0;\n",
              "    width: 32px;\n",
              "  }\n",
              "\n",
              "  .colab-df-quickchart:hover {\n",
              "    background-color: var(--hover-bg-color);\n",
              "    box-shadow: 0 1px 2px rgba(60, 64, 67, 0.3), 0 1px 3px 1px rgba(60, 64, 67, 0.15);\n",
              "    fill: var(--button-hover-fill-color);\n",
              "  }\n",
              "\n",
              "  .colab-df-quickchart-complete:disabled,\n",
              "  .colab-df-quickchart-complete:disabled:hover {\n",
              "    background-color: var(--disabled-bg-color);\n",
              "    fill: var(--disabled-fill-color);\n",
              "    box-shadow: none;\n",
              "  }\n",
              "\n",
              "  .colab-df-spinner {\n",
              "    border: 2px solid var(--fill-color);\n",
              "    border-color: transparent;\n",
              "    border-bottom-color: var(--fill-color);\n",
              "    animation:\n",
              "      spin 1s steps(1) infinite;\n",
              "  }\n",
              "\n",
              "  @keyframes spin {\n",
              "    0% {\n",
              "      border-color: transparent;\n",
              "      border-bottom-color: var(--fill-color);\n",
              "      border-left-color: var(--fill-color);\n",
              "    }\n",
              "    20% {\n",
              "      border-color: transparent;\n",
              "      border-left-color: var(--fill-color);\n",
              "      border-top-color: var(--fill-color);\n",
              "    }\n",
              "    30% {\n",
              "      border-color: transparent;\n",
              "      border-left-color: var(--fill-color);\n",
              "      border-top-color: var(--fill-color);\n",
              "      border-right-color: var(--fill-color);\n",
              "    }\n",
              "    40% {\n",
              "      border-color: transparent;\n",
              "      border-right-color: var(--fill-color);\n",
              "      border-top-color: var(--fill-color);\n",
              "    }\n",
              "    60% {\n",
              "      border-color: transparent;\n",
              "      border-right-color: var(--fill-color);\n",
              "    }\n",
              "    80% {\n",
              "      border-color: transparent;\n",
              "      border-right-color: var(--fill-color);\n",
              "      border-bottom-color: var(--fill-color);\n",
              "    }\n",
              "    90% {\n",
              "      border-color: transparent;\n",
              "      border-bottom-color: var(--fill-color);\n",
              "    }\n",
              "  }\n",
              "</style>\n",
              "\n",
              "  <script>\n",
              "    async function quickchart(key) {\n",
              "      const quickchartButtonEl =\n",
              "        document.querySelector('#' + key + ' button');\n",
              "      quickchartButtonEl.disabled = true;  // To prevent multiple clicks.\n",
              "      quickchartButtonEl.classList.add('colab-df-spinner');\n",
              "      try {\n",
              "        const charts = await google.colab.kernel.invokeFunction(\n",
              "            'suggestCharts', [key], {});\n",
              "      } catch (error) {\n",
              "        console.error('Error during call to suggestCharts:', error);\n",
              "      }\n",
              "      quickchartButtonEl.classList.remove('colab-df-spinner');\n",
              "      quickchartButtonEl.classList.add('colab-df-quickchart-complete');\n",
              "    }\n",
              "    (() => {\n",
              "      let quickchartButtonEl =\n",
              "        document.querySelector('#df-03353195-2499-4ada-af44-6a51aee6b5f7 button');\n",
              "      quickchartButtonEl.style.display =\n",
              "        google.colab.kernel.accessAllowed ? 'block' : 'none';\n",
              "    })();\n",
              "  </script>\n",
              "</div>\n",
              "\n",
              "    </div>\n",
              "  </div>\n"
            ],
            "application/vnd.google.colaboratory.intrinsic+json": {
              "type": "dataframe",
              "summary": "{\n  \"name\": \"df\",\n  \"rows\": 10,\n  \"fields\": [\n    {\n      \"column\": \"user_id\",\n      \"properties\": {\n        \"dtype\": \"number\",\n        \"std\": 2524,\n        \"min\": 11080,\n        \"max\": 17746,\n        \"num_unique_values\": 10,\n        \"samples\": [\n          11080,\n          11493,\n          17326\n        ],\n        \"semantic_type\": \"\",\n        \"description\": \"\"\n      }\n    },\n    {\n      \"column\": \"age_group\",\n      \"properties\": {\n        \"dtype\": \"category\",\n        \"num_unique_values\": 3,\n        \"samples\": [\n          \"35 and over\",\n          \"18-34\",\n          \"under 18\"\n        ],\n        \"semantic_type\": \"\",\n        \"description\": \"\"\n      }\n    },\n    {\n      \"column\": \"subscription_status\",\n      \"properties\": {\n        \"dtype\": \"category\",\n        \"num_unique_values\": 2,\n        \"samples\": [\n          \"subscribed\",\n          \"not_subscribed\"\n        ],\n        \"semantic_type\": \"\",\n        \"description\": \"\"\n      }\n    },\n    {\n      \"column\": \"engagement_time\",\n      \"properties\": {\n        \"dtype\": \"number\",\n        \"std\": 2.639778820701125,\n        \"min\": 2.02,\n        \"max\": 10.66,\n        \"num_unique_values\": 9,\n        \"samples\": [\n          4.17,\n          2.86\n        ],\n        \"semantic_type\": \"\",\n        \"description\": \"\"\n      }\n    }\n  ]\n}"
            }
          },
          "metadata": {},
          "execution_count": 1
        }
      ],
      "source": [
        "import pandas as pd\n",
        "import numpy as np\n",
        "import matplotlib.pyplot as plt\n",
        "import seaborn as sns\n",
        "\n",
        "import warnings\n",
        "warnings.filterwarnings('ignore')\n",
        "\n",
        "from google.colab import drive\n",
        "drive.mount('/content/drive')\n",
        "\n",
        "\n",
        "df = pd.read_csv('/content/drive/My Drive/az_tunes.csv')\n",
        "df.sample(10)\n",
        "\n"
      ]
    },
    {
      "cell_type": "markdown",
      "source": [
        "# **Loading the DataSet**"
      ],
      "metadata": {
        "id": "b_XuyEhbxHw7"
      }
    },
    {
      "cell_type": "code",
      "source": [
        "df.shape[0]"
      ],
      "metadata": {
        "colab": {
          "base_uri": "https://localhost:8080/"
        },
        "id": "xvWCkKI5cPO7",
        "outputId": "54f1ee82-2866-419f-ca2a-b98fcd91369d"
      },
      "execution_count": 3,
      "outputs": [
        {
          "output_type": "execute_result",
          "data": {
            "text/plain": [
              "1000"
            ]
          },
          "metadata": {},
          "execution_count": 3
        }
      ]
    },
    {
      "cell_type": "code",
      "source": [
        "df.describe(include='all').T"
      ],
      "metadata": {
        "colab": {
          "base_uri": "https://localhost:8080/",
          "height": 175
        },
        "id": "AW2Cs4E3cR4b",
        "outputId": "a0998534-f82a-48a8-f1f9-99d7cb63c658"
      },
      "execution_count": 5,
      "outputs": [
        {
          "output_type": "execute_result",
          "data": {
            "text/plain": [
              "                      count unique          top freq       mean          std  \\\n",
              "user_id              1000.0    NaN          NaN  NaN  15024.803  2927.044957   \n",
              "age_group              1000      3  35 and over  408        NaN          NaN   \n",
              "subscription_status    1000      2   subscribed  553        NaN          NaN   \n",
              "engagement_time      1000.0    NaN          NaN  NaN    6.18003     2.757166   \n",
              "\n",
              "                         min      25%      50%       75%      max  \n",
              "user_id              10000.0  12452.5  15184.0  17481.25  19976.0  \n",
              "age_group                NaN      NaN      NaN       NaN      NaN  \n",
              "subscription_status      NaN      NaN      NaN       NaN      NaN  \n",
              "engagement_time         0.22   3.9175      6.0      8.11    16.98  "
            ],
            "text/html": [
              "\n",
              "  <div id=\"df-f6ea7af4-3226-4f2e-9e18-fe08fb64fb25\" class=\"colab-df-container\">\n",
              "    <div>\n",
              "<style scoped>\n",
              "    .dataframe tbody tr th:only-of-type {\n",
              "        vertical-align: middle;\n",
              "    }\n",
              "\n",
              "    .dataframe tbody tr th {\n",
              "        vertical-align: top;\n",
              "    }\n",
              "\n",
              "    .dataframe thead th {\n",
              "        text-align: right;\n",
              "    }\n",
              "</style>\n",
              "<table border=\"1\" class=\"dataframe\">\n",
              "  <thead>\n",
              "    <tr style=\"text-align: right;\">\n",
              "      <th></th>\n",
              "      <th>count</th>\n",
              "      <th>unique</th>\n",
              "      <th>top</th>\n",
              "      <th>freq</th>\n",
              "      <th>mean</th>\n",
              "      <th>std</th>\n",
              "      <th>min</th>\n",
              "      <th>25%</th>\n",
              "      <th>50%</th>\n",
              "      <th>75%</th>\n",
              "      <th>max</th>\n",
              "    </tr>\n",
              "  </thead>\n",
              "  <tbody>\n",
              "    <tr>\n",
              "      <th>user_id</th>\n",
              "      <td>1000.0</td>\n",
              "      <td>NaN</td>\n",
              "      <td>NaN</td>\n",
              "      <td>NaN</td>\n",
              "      <td>15024.803</td>\n",
              "      <td>2927.044957</td>\n",
              "      <td>10000.0</td>\n",
              "      <td>12452.5</td>\n",
              "      <td>15184.0</td>\n",
              "      <td>17481.25</td>\n",
              "      <td>19976.0</td>\n",
              "    </tr>\n",
              "    <tr>\n",
              "      <th>age_group</th>\n",
              "      <td>1000</td>\n",
              "      <td>3</td>\n",
              "      <td>35 and over</td>\n",
              "      <td>408</td>\n",
              "      <td>NaN</td>\n",
              "      <td>NaN</td>\n",
              "      <td>NaN</td>\n",
              "      <td>NaN</td>\n",
              "      <td>NaN</td>\n",
              "      <td>NaN</td>\n",
              "      <td>NaN</td>\n",
              "    </tr>\n",
              "    <tr>\n",
              "      <th>subscription_status</th>\n",
              "      <td>1000</td>\n",
              "      <td>2</td>\n",
              "      <td>subscribed</td>\n",
              "      <td>553</td>\n",
              "      <td>NaN</td>\n",
              "      <td>NaN</td>\n",
              "      <td>NaN</td>\n",
              "      <td>NaN</td>\n",
              "      <td>NaN</td>\n",
              "      <td>NaN</td>\n",
              "      <td>NaN</td>\n",
              "    </tr>\n",
              "    <tr>\n",
              "      <th>engagement_time</th>\n",
              "      <td>1000.0</td>\n",
              "      <td>NaN</td>\n",
              "      <td>NaN</td>\n",
              "      <td>NaN</td>\n",
              "      <td>6.18003</td>\n",
              "      <td>2.757166</td>\n",
              "      <td>0.22</td>\n",
              "      <td>3.9175</td>\n",
              "      <td>6.0</td>\n",
              "      <td>8.11</td>\n",
              "      <td>16.98</td>\n",
              "    </tr>\n",
              "  </tbody>\n",
              "</table>\n",
              "</div>\n",
              "    <div class=\"colab-df-buttons\">\n",
              "\n",
              "  <div class=\"colab-df-container\">\n",
              "    <button class=\"colab-df-convert\" onclick=\"convertToInteractive('df-f6ea7af4-3226-4f2e-9e18-fe08fb64fb25')\"\n",
              "            title=\"Convert this dataframe to an interactive table.\"\n",
              "            style=\"display:none;\">\n",
              "\n",
              "  <svg xmlns=\"http://www.w3.org/2000/svg\" height=\"24px\" viewBox=\"0 -960 960 960\">\n",
              "    <path d=\"M120-120v-720h720v720H120Zm60-500h600v-160H180v160Zm220 220h160v-160H400v160Zm0 220h160v-160H400v160ZM180-400h160v-160H180v160Zm440 0h160v-160H620v160ZM180-180h160v-160H180v160Zm440 0h160v-160H620v160Z\"/>\n",
              "  </svg>\n",
              "    </button>\n",
              "\n",
              "  <style>\n",
              "    .colab-df-container {\n",
              "      display:flex;\n",
              "      gap: 12px;\n",
              "    }\n",
              "\n",
              "    .colab-df-convert {\n",
              "      background-color: #E8F0FE;\n",
              "      border: none;\n",
              "      border-radius: 50%;\n",
              "      cursor: pointer;\n",
              "      display: none;\n",
              "      fill: #1967D2;\n",
              "      height: 32px;\n",
              "      padding: 0 0 0 0;\n",
              "      width: 32px;\n",
              "    }\n",
              "\n",
              "    .colab-df-convert:hover {\n",
              "      background-color: #E2EBFA;\n",
              "      box-shadow: 0px 1px 2px rgba(60, 64, 67, 0.3), 0px 1px 3px 1px rgba(60, 64, 67, 0.15);\n",
              "      fill: #174EA6;\n",
              "    }\n",
              "\n",
              "    .colab-df-buttons div {\n",
              "      margin-bottom: 4px;\n",
              "    }\n",
              "\n",
              "    [theme=dark] .colab-df-convert {\n",
              "      background-color: #3B4455;\n",
              "      fill: #D2E3FC;\n",
              "    }\n",
              "\n",
              "    [theme=dark] .colab-df-convert:hover {\n",
              "      background-color: #434B5C;\n",
              "      box-shadow: 0px 1px 3px 1px rgba(0, 0, 0, 0.15);\n",
              "      filter: drop-shadow(0px 1px 2px rgba(0, 0, 0, 0.3));\n",
              "      fill: #FFFFFF;\n",
              "    }\n",
              "  </style>\n",
              "\n",
              "    <script>\n",
              "      const buttonEl =\n",
              "        document.querySelector('#df-f6ea7af4-3226-4f2e-9e18-fe08fb64fb25 button.colab-df-convert');\n",
              "      buttonEl.style.display =\n",
              "        google.colab.kernel.accessAllowed ? 'block' : 'none';\n",
              "\n",
              "      async function convertToInteractive(key) {\n",
              "        const element = document.querySelector('#df-f6ea7af4-3226-4f2e-9e18-fe08fb64fb25');\n",
              "        const dataTable =\n",
              "          await google.colab.kernel.invokeFunction('convertToInteractive',\n",
              "                                                    [key], {});\n",
              "        if (!dataTable) return;\n",
              "\n",
              "        const docLinkHtml = 'Like what you see? Visit the ' +\n",
              "          '<a target=\"_blank\" href=https://colab.research.google.com/notebooks/data_table.ipynb>data table notebook</a>'\n",
              "          + ' to learn more about interactive tables.';\n",
              "        element.innerHTML = '';\n",
              "        dataTable['output_type'] = 'display_data';\n",
              "        await google.colab.output.renderOutput(dataTable, element);\n",
              "        const docLink = document.createElement('div');\n",
              "        docLink.innerHTML = docLinkHtml;\n",
              "        element.appendChild(docLink);\n",
              "      }\n",
              "    </script>\n",
              "  </div>\n",
              "\n",
              "\n",
              "<div id=\"df-b714441a-86ac-4ce3-88a5-36c4188f4f4b\">\n",
              "  <button class=\"colab-df-quickchart\" onclick=\"quickchart('df-b714441a-86ac-4ce3-88a5-36c4188f4f4b')\"\n",
              "            title=\"Suggest charts\"\n",
              "            style=\"display:none;\">\n",
              "\n",
              "<svg xmlns=\"http://www.w3.org/2000/svg\" height=\"24px\"viewBox=\"0 0 24 24\"\n",
              "     width=\"24px\">\n",
              "    <g>\n",
              "        <path d=\"M19 3H5c-1.1 0-2 .9-2 2v14c0 1.1.9 2 2 2h14c1.1 0 2-.9 2-2V5c0-1.1-.9-2-2-2zM9 17H7v-7h2v7zm4 0h-2V7h2v10zm4 0h-2v-4h2v4z\"/>\n",
              "    </g>\n",
              "</svg>\n",
              "  </button>\n",
              "\n",
              "<style>\n",
              "  .colab-df-quickchart {\n",
              "      --bg-color: #E8F0FE;\n",
              "      --fill-color: #1967D2;\n",
              "      --hover-bg-color: #E2EBFA;\n",
              "      --hover-fill-color: #174EA6;\n",
              "      --disabled-fill-color: #AAA;\n",
              "      --disabled-bg-color: #DDD;\n",
              "  }\n",
              "\n",
              "  [theme=dark] .colab-df-quickchart {\n",
              "      --bg-color: #3B4455;\n",
              "      --fill-color: #D2E3FC;\n",
              "      --hover-bg-color: #434B5C;\n",
              "      --hover-fill-color: #FFFFFF;\n",
              "      --disabled-bg-color: #3B4455;\n",
              "      --disabled-fill-color: #666;\n",
              "  }\n",
              "\n",
              "  .colab-df-quickchart {\n",
              "    background-color: var(--bg-color);\n",
              "    border: none;\n",
              "    border-radius: 50%;\n",
              "    cursor: pointer;\n",
              "    display: none;\n",
              "    fill: var(--fill-color);\n",
              "    height: 32px;\n",
              "    padding: 0;\n",
              "    width: 32px;\n",
              "  }\n",
              "\n",
              "  .colab-df-quickchart:hover {\n",
              "    background-color: var(--hover-bg-color);\n",
              "    box-shadow: 0 1px 2px rgba(60, 64, 67, 0.3), 0 1px 3px 1px rgba(60, 64, 67, 0.15);\n",
              "    fill: var(--button-hover-fill-color);\n",
              "  }\n",
              "\n",
              "  .colab-df-quickchart-complete:disabled,\n",
              "  .colab-df-quickchart-complete:disabled:hover {\n",
              "    background-color: var(--disabled-bg-color);\n",
              "    fill: var(--disabled-fill-color);\n",
              "    box-shadow: none;\n",
              "  }\n",
              "\n",
              "  .colab-df-spinner {\n",
              "    border: 2px solid var(--fill-color);\n",
              "    border-color: transparent;\n",
              "    border-bottom-color: var(--fill-color);\n",
              "    animation:\n",
              "      spin 1s steps(1) infinite;\n",
              "  }\n",
              "\n",
              "  @keyframes spin {\n",
              "    0% {\n",
              "      border-color: transparent;\n",
              "      border-bottom-color: var(--fill-color);\n",
              "      border-left-color: var(--fill-color);\n",
              "    }\n",
              "    20% {\n",
              "      border-color: transparent;\n",
              "      border-left-color: var(--fill-color);\n",
              "      border-top-color: var(--fill-color);\n",
              "    }\n",
              "    30% {\n",
              "      border-color: transparent;\n",
              "      border-left-color: var(--fill-color);\n",
              "      border-top-color: var(--fill-color);\n",
              "      border-right-color: var(--fill-color);\n",
              "    }\n",
              "    40% {\n",
              "      border-color: transparent;\n",
              "      border-right-color: var(--fill-color);\n",
              "      border-top-color: var(--fill-color);\n",
              "    }\n",
              "    60% {\n",
              "      border-color: transparent;\n",
              "      border-right-color: var(--fill-color);\n",
              "    }\n",
              "    80% {\n",
              "      border-color: transparent;\n",
              "      border-right-color: var(--fill-color);\n",
              "      border-bottom-color: var(--fill-color);\n",
              "    }\n",
              "    90% {\n",
              "      border-color: transparent;\n",
              "      border-bottom-color: var(--fill-color);\n",
              "    }\n",
              "  }\n",
              "</style>\n",
              "\n",
              "  <script>\n",
              "    async function quickchart(key) {\n",
              "      const quickchartButtonEl =\n",
              "        document.querySelector('#' + key + ' button');\n",
              "      quickchartButtonEl.disabled = true;  // To prevent multiple clicks.\n",
              "      quickchartButtonEl.classList.add('colab-df-spinner');\n",
              "      try {\n",
              "        const charts = await google.colab.kernel.invokeFunction(\n",
              "            'suggestCharts', [key], {});\n",
              "      } catch (error) {\n",
              "        console.error('Error during call to suggestCharts:', error);\n",
              "      }\n",
              "      quickchartButtonEl.classList.remove('colab-df-spinner');\n",
              "      quickchartButtonEl.classList.add('colab-df-quickchart-complete');\n",
              "    }\n",
              "    (() => {\n",
              "      let quickchartButtonEl =\n",
              "        document.querySelector('#df-b714441a-86ac-4ce3-88a5-36c4188f4f4b button');\n",
              "      quickchartButtonEl.style.display =\n",
              "        google.colab.kernel.accessAllowed ? 'block' : 'none';\n",
              "    })();\n",
              "  </script>\n",
              "</div>\n",
              "\n",
              "    </div>\n",
              "  </div>\n"
            ],
            "application/vnd.google.colaboratory.intrinsic+json": {
              "type": "dataframe",
              "summary": "{\n  \"name\": \"df\",\n  \"rows\": 4,\n  \"fields\": [\n    {\n      \"column\": \"count\",\n      \"properties\": {\n        \"dtype\": \"date\",\n        \"min\": 1000.0,\n        \"max\": 1000.0,\n        \"num_unique_values\": 1,\n        \"samples\": [\n          1000.0\n        ],\n        \"semantic_type\": \"\",\n        \"description\": \"\"\n      }\n    },\n    {\n      \"column\": \"unique\",\n      \"properties\": {\n        \"dtype\": \"date\",\n        \"min\": 2,\n        \"max\": 3,\n        \"num_unique_values\": 2,\n        \"samples\": [\n          2\n        ],\n        \"semantic_type\": \"\",\n        \"description\": \"\"\n      }\n    },\n    {\n      \"column\": \"top\",\n      \"properties\": {\n        \"dtype\": \"string\",\n        \"num_unique_values\": 2,\n        \"samples\": [\n          \"subscribed\"\n        ],\n        \"semantic_type\": \"\",\n        \"description\": \"\"\n      }\n    },\n    {\n      \"column\": \"freq\",\n      \"properties\": {\n        \"dtype\": \"date\",\n        \"min\": \"408\",\n        \"max\": \"553\",\n        \"num_unique_values\": 2,\n        \"samples\": [\n          \"553\"\n        ],\n        \"semantic_type\": \"\",\n        \"description\": \"\"\n      }\n    },\n    {\n      \"column\": \"mean\",\n      \"properties\": {\n        \"dtype\": \"date\",\n        \"min\": 6.1800299999999995,\n        \"max\": 15024.803,\n        \"num_unique_values\": 2,\n        \"samples\": [\n          6.1800299999999995\n        ],\n        \"semantic_type\": \"\",\n        \"description\": \"\"\n      }\n    },\n    {\n      \"column\": \"std\",\n      \"properties\": {\n        \"dtype\": \"date\",\n        \"min\": 2.757166238144658,\n        \"max\": 2927.0449573543233,\n        \"num_unique_values\": 2,\n        \"samples\": [\n          2.757166238144658\n        ],\n        \"semantic_type\": \"\",\n        \"description\": \"\"\n      }\n    },\n    {\n      \"column\": \"min\",\n      \"properties\": {\n        \"dtype\": \"date\",\n        \"min\": 0.22,\n        \"max\": 10000.0,\n        \"num_unique_values\": 2,\n        \"samples\": [\n          0.22\n        ],\n        \"semantic_type\": \"\",\n        \"description\": \"\"\n      }\n    },\n    {\n      \"column\": \"25%\",\n      \"properties\": {\n        \"dtype\": \"date\",\n        \"min\": 3.9175,\n        \"max\": 12452.5,\n        \"num_unique_values\": 2,\n        \"samples\": [\n          3.9175\n        ],\n        \"semantic_type\": \"\",\n        \"description\": \"\"\n      }\n    },\n    {\n      \"column\": \"50%\",\n      \"properties\": {\n        \"dtype\": \"date\",\n        \"min\": 6.0,\n        \"max\": 15184.0,\n        \"num_unique_values\": 2,\n        \"samples\": [\n          6.0\n        ],\n        \"semantic_type\": \"\",\n        \"description\": \"\"\n      }\n    },\n    {\n      \"column\": \"75%\",\n      \"properties\": {\n        \"dtype\": \"date\",\n        \"min\": 8.11,\n        \"max\": 17481.25,\n        \"num_unique_values\": 2,\n        \"samples\": [\n          8.11\n        ],\n        \"semantic_type\": \"\",\n        \"description\": \"\"\n      }\n    },\n    {\n      \"column\": \"max\",\n      \"properties\": {\n        \"dtype\": \"date\",\n        \"min\": 16.98,\n        \"max\": 19976.0,\n        \"num_unique_values\": 2,\n        \"samples\": [\n          16.98\n        ],\n        \"semantic_type\": \"\",\n        \"description\": \"\"\n      }\n    }\n  ]\n}"
            }
          },
          "metadata": {},
          "execution_count": 5
        }
      ]
    },
    {
      "cell_type": "code",
      "source": [
        "df.info()"
      ],
      "metadata": {
        "colab": {
          "base_uri": "https://localhost:8080/"
        },
        "id": "mOMH8_ICci_g",
        "outputId": "cc87742f-73a4-462d-88fa-f4eb56297544"
      },
      "execution_count": 6,
      "outputs": [
        {
          "output_type": "stream",
          "name": "stdout",
          "text": [
            "<class 'pandas.core.frame.DataFrame'>\n",
            "RangeIndex: 1000 entries, 0 to 999\n",
            "Data columns (total 4 columns):\n",
            " #   Column               Non-Null Count  Dtype  \n",
            "---  ------               --------------  -----  \n",
            " 0   user_id              1000 non-null   int64  \n",
            " 1   age_group            1000 non-null   object \n",
            " 2   subscription_status  1000 non-null   object \n",
            " 3   engagement_time      1000 non-null   float64\n",
            "dtypes: float64(1), int64(1), object(2)\n",
            "memory usage: 31.4+ KB\n"
          ]
        }
      ]
    },
    {
      "cell_type": "code",
      "source": [
        "#check if there are duplicates\n",
        "df.duplicated().sum()\n",
        "\n",
        "#There are no duplicates in the data"
      ],
      "metadata": {
        "colab": {
          "base_uri": "https://localhost:8080/"
        },
        "id": "HLIqKE0sojUv",
        "outputId": "61dbed7d-8ced-4d65-959a-5ceff11aa487"
      },
      "execution_count": 61,
      "outputs": [
        {
          "output_type": "execute_result",
          "data": {
            "text/plain": [
              "0"
            ]
          },
          "metadata": {},
          "execution_count": 61
        }
      ]
    },
    {
      "cell_type": "code",
      "source": [
        "#check if there are null values\n",
        "df.isnull().sum().sum()\n",
        "\n",
        "#There are no duplicates in the data"
      ],
      "metadata": {
        "colab": {
          "base_uri": "https://localhost:8080/"
        },
        "id": "hU0tmmO4orc4",
        "outputId": "7d97a704-ec66-4753-eaae-547dfc352d9b"
      },
      "execution_count": 64,
      "outputs": [
        {
          "output_type": "execute_result",
          "data": {
            "text/plain": [
              "0"
            ]
          },
          "metadata": {},
          "execution_count": 64
        }
      ]
    },
    {
      "cell_type": "markdown",
      "source": [
        "# Overview of Data"
      ],
      "metadata": {
        "id": "I1P1WmplxOEy"
      }
    },
    {
      "cell_type": "code",
      "source": [
        "def labelled_barplot(data, feature, perc=False, n=None):\n",
        "\n",
        "  total = len(data[feature])\n",
        "  count = data[feature].nunique()\n",
        "\n",
        "  if(n==None):\n",
        "    total = float(len(data))\n",
        "    f,ax = plt.subplots(figsize=(count+2,8))\n",
        "  else:\n",
        "    f,ax = plt.subplots(figsize=(n+2,8))\n",
        "\n",
        "  sns.countplot( data=data,\n",
        "                 x=feature,\n",
        "                 palette='Paired',\n",
        "                 order = df[feature].value_counts().index[:n],\n",
        "                 ax=ax)\n",
        "  plt.xticks(rotation=90)\n",
        "\n",
        "\n",
        "  for p in ax.patches:\n",
        "    height = p.get_height()\n",
        "    if(perc==True):\n",
        "     label = '{0:.2f}%'.format(height/total*100)\n",
        "    else:\n",
        "      label = '{0}'.format(height)\n",
        "\n",
        "    x1 = p.get_x()+p.get_width()/2\n",
        "    y1 = height\n",
        "    ax.annotate(\n",
        "                 label,\n",
        "                (x1,y1),\n",
        "                 ha='center',\n",
        "                 va='center',\n",
        "                 textcoords='offset points',\n",
        "                 xytext=(0,5),\n",
        "                 fontsize=12,\n",
        "                 color='black',\n",
        "                 rotation=0\n",
        "                 )\n",
        "\n"
      ],
      "metadata": {
        "id": "okdlW_esdxRF"
      },
      "execution_count": 40,
      "outputs": []
    },
    {
      "cell_type": "code",
      "source": [
        "#Plotting the age-group countplot\n",
        "\n",
        "labelled_barplot(df,'age_group',True)"
      ],
      "metadata": {
        "colab": {
          "base_uri": "https://localhost:8080/",
          "height": 856
        },
        "id": "vHidQxIygXEJ",
        "outputId": "6a5e5022-daf9-4234-985f-801a62cce036"
      },
      "execution_count": 41,
      "outputs": [
        {
          "output_type": "stream",
          "name": "stderr",
          "text": [
            "<ipython-input-40-785924ec14cc>:12: FutureWarning: \n",
            "\n",
            "Passing `palette` without assigning `hue` is deprecated and will be removed in v0.14.0. Assign the `x` variable to `hue` and set `legend=False` for the same effect.\n",
            "\n",
            "  sns.countplot( data=data,\n"
          ]
        },
        {
          "output_type": "display_data",
          "data": {
            "text/plain": [
              "<Figure size 500x800 with 1 Axes>"
            ],
            "image/png": "[encoded data removed]"
          },
          "metadata": {}
        }
      ]
    },
    {
      "cell_type": "code",
      "source": [
        "labelled_barplot(df,'subscription_status',True)"
      ],
      "metadata": {
        "colab": {
          "base_uri": "https://localhost:8080/",
          "height": 787
        },
        "id": "4aZ7nEduhBl_",
        "outputId": "80514fb9-8de9-448b-b2a7-ff8b7dbdf956"
      },
      "execution_count": 44,
      "outputs": [
        {
          "output_type": "display_data",
          "data": {
            "text/plain": [
              "<Figure size 400x800 with 1 Axes>"
            ],
            "image/png": "[encoded data removed]"
          },
          "metadata": {}
        }
      ]
    },
    {
      "cell_type": "code",
      "source": [
        "def hist_box_plot(data,feature,bins=50,kde=True):\n",
        "\n",
        "  f,(ax1,ax2) = plt.subplots(\n",
        "                      figsize=(15,8),\n",
        "                      nrows=2,\n",
        "                      sharex=True,\n",
        "                      gridspec_kw={'height_ratios':(0.25,0.75)}\n",
        "                      )\n",
        "\n",
        "  sns.boxplot(\n",
        "      data=data,\n",
        "      x=feature,\n",
        "      ax=ax1,\n",
        "      showmeans=True,\n",
        "      )\n",
        "  ax1.axvline(\n",
        "      data[feature].mean(),\n",
        "      color='green',\n",
        "      linestyle='--'\n",
        "      )\n",
        "  ax1.axvline(\n",
        "      data[feature].median(),\n",
        "      color='black',\n",
        "      linestyle='-'\n",
        "      )\n",
        "  sns.histplot(\n",
        "      data=data,\n",
        "      x=feature,\n",
        "      kde=kde,\n",
        "      ax=ax2,\n",
        "      bins=bins\n",
        "      )if bins else sns.histplot(\n",
        "      data=data,\n",
        "      x=feature,\n",
        "      kde=kde,\n",
        "      ax=ax2\n",
        "      )\n",
        "\n"
      ],
      "metadata": {
        "id": "wmQ2Ls7clqDv"
      },
      "execution_count": 57,
      "outputs": []
    },
    {
      "cell_type": "code",
      "source": [
        "#Estimated time Histogram and count plot\n",
        "\n",
        "hist_box_plot(df,'engagement_time',20,True)"
      ],
      "metadata": {
        "colab": {
          "base_uri": "https://localhost:8080/",
          "height": 696
        },
        "id": "3HRnHffQm0_e",
        "outputId": "bb204aa3-e236-4f89-a21a-925df9bda4e2"
      },
      "execution_count": 60,
      "outputs": [
        {
          "output_type": "display_data",
          "data": {
            "text/plain": [
              "<Figure size 1500x800 with 2 Axes>"
            ],
            "image/png": "[encoded data removed]"
          },
          "metadata": {}
        }
      ]
    },
    {
      "cell_type": "markdown",
      "source": [
        "# One Sample T test"
      ],
      "metadata": {
        "id": "Jrd7kO4Ixb2l"
      }
    },
    {
      "cell_type": "markdown",
      "source": [
        "##Step1: Defining Null and Alternate Hypothesis"
      ],
      "metadata": {
        "id": "YJ7Jk39Pxx1J"
      }
    },
    {
      "cell_type": "markdown",
      "source": [
        "H0 : The mean listening time of audio is less than or equal to 6 hours\n",
        "\n",
        "Ha: The mean listening time of audio is more than 6 hours"
      ],
      "metadata": {
        "id": "CfeH4E2nyHRP"
      }
    },
    {
      "cell_type": "markdown",
      "source": [
        "## Step 2: Select Appropriate test"
      ],
      "metadata": {
        "id": "_1pc9f2UyqZ9"
      }
    },
    {
      "cell_type": "markdown",
      "source": [
        "We are comparing sample mean against population mean. Standard deviation of population is unknown. The samples are random samples and sample size is 1000.\n",
        "The test we choose is one sample t-test"
      ],
      "metadata": {
        "id": "t-sNrEN2y38B"
      }
    },
    {
      "cell_type": "markdown",
      "source": [
        "## Step 3: Decide the significance level"
      ],
      "metadata": {
        "id": "-qqxg4l_zImi"
      }
    },
    {
      "cell_type": "markdown",
      "source": [
        "The alpha value at which the P-value is tested is 0.05"
      ],
      "metadata": {
        "id": "wJ43VHxhzbab"
      }
    },
    {
      "cell_type": "markdown",
      "source": [
        "## Step 4: Calculate P-value"
      ],
      "metadata": {
        "id": "gRoGGarzzo3X"
      }
    },
    {
      "cell_type": "code",
      "source": [
        "from scipy.stats import ttest_1samp\n",
        "\n",
        "test_static,p_value = ttest_1samp(df['engagement_time'],6,alternative='greater')\n",
        "print(test_static,p_value)"
      ],
      "metadata": {
        "colab": {
          "base_uri": "https://localhost:8080/"
        },
        "id": "Np_1NvDCxi0b",
        "outputId": "571069f3-e701-4799-8312-6662edc43201"
      },
      "execution_count": 3,
      "outputs": [
        {
          "output_type": "stream",
          "name": "stdout",
          "text": [
            "2.0648187232381248 0.019598877431817586\n"
          ]
        }
      ]
    },
    {
      "cell_type": "code",
      "source": [
        "#Let us visualize where the test static and critical point\n",
        "from scipy.stats import norm\n",
        "alpha =0.05\n",
        "\n",
        "#The region of consideration is greather than 6 hours\n",
        "#It is a one tailed test foccusing on the right hand side\n",
        "critical_point = norm.ppf(1-alpha)\n",
        "print(critical_point)\n",
        "f,ax = plt.subplots(figsize=(10,8))\n",
        "x1 = np.linspace(-4,4,50)\n",
        "plt.plot(x1,norm.pdf(x1))\n",
        "plt.axvline(test_static,color='blue',linestyle='--',label='Test Statistic')\n",
        "plt.axvline(critical_point,color='red',linestyle='-',label='Critical Point')\n",
        "x2 = np.linspace(critical_point,4,50)\n",
        "plt.fill_between(x2,norm.pdf(x2),color='red')\n",
        "plt.legend()\n",
        "plt.show()"
      ],
      "metadata": {
        "colab": {
          "base_uri": "https://localhost:8080/",
          "height": 694
        },
        "id": "7yHW80Tr8Z0i",
        "outputId": "5c773fc2-1c9a-4104-960a-12c3912cceda"
      },
      "execution_count": 10,
      "outputs": [
        {
          "output_type": "stream",
          "name": "stdout",
          "text": [
            "1.6448536269514722\n"
          ]
        },
        {
          "output_type": "display_data",
          "data": {
            "text/plain": [
              "<Figure size 1000x800 with 1 Axes>"
            ],
            "image/png": "[encoded data removed]"
          },
          "metadata": {}
        }
      ]
    },
    {
      "cell_type": "markdown",
      "source": [
        "## Step 5: Compare P and alpha Value"
      ],
      "metadata": {
        "id": "H4sQOlzA00ZX"
      }
    },
    {
      "cell_type": "code",
      "source": [
        "if p_value < 0.05:\n",
        "  print('Reject Null Hypothesis - There is statistical evidence that the engagement time is more than 6 hrs')\n",
        "else:\n",
        "  print('Do not reject Null Hypothesis - There is significant evidence that engagement time is less than 6 hrs')"
      ],
      "metadata": {
        "colab": {
          "base_uri": "https://localhost:8080/"
        },
        "id": "DL5N14Z81FKn",
        "outputId": "979c3fa6-6418-4765-8e8c-8e579628564b"
      },
      "execution_count": 4,
      "outputs": [
        {
          "output_type": "stream",
          "name": "stdout",
          "text": [
            "Reject Null Hypothesis - There is statistical evidence that the engagement time is more than 6 hrs\n"
          ]
        }
      ]
    },
    {
      "cell_type": "markdown",
      "source": [
        "## Step 6: Drawing Conclusion"
      ],
      "metadata": {
        "id": "EdIoPZU_1iVO"
      }
    },
    {
      "cell_type": "code",
      "source": [
        "print('There is statistical evidence that the engagement time is more than 6 hrs')"
      ],
      "metadata": {
        "colab": {
          "base_uri": "https://localhost:8080/"
        },
        "id": "Y_eetwq81hvO",
        "outputId": "edef7891-7ac0-4b54-c0b6-c0600b58c13b"
      },
      "execution_count": 5,
      "outputs": [
        {
          "output_type": "stream",
          "name": "stdout",
          "text": [
            "There is statistical evidence that the engagement time is more than 6 hrs\n"
          ]
        }
      ]
    },
    {
      "cell_type": "markdown",
      "source": [
        "# Chi-Square Test of Independence"
      ],
      "metadata": {
        "id": "RR9lfeTb_Hpv"
      }
    },
    {
      "cell_type": "markdown",
      "source": [
        "Is the difference in proportions of subscribers & non-subscribers (in 3 groups - under 18, 18-34, and over 35) significantly different to conclude that a particular group is most likely to subscribe?"
      ],
      "metadata": {
        "id": "sBcjtZoq_2VK"
      }
    },
    {
      "cell_type": "code",
      "source": [
        "#Let us create a crosstab of two categorical variables\n",
        "\n",
        "cross_tab=pd.crosstab(df['age_group'],df['subscription_status'],margins='all')"
      ],
      "metadata": {
        "id": "GhVuZ9OiA6Pl"
      },
      "execution_count": 16,
      "outputs": []
    },
    {
      "cell_type": "markdown",
      "source": [],
      "metadata": {
        "id": "dKHJ0StPBEWe"
      }
    },
    {
      "cell_type": "code",
      "source": [
        "#Let us visualize a bar plot\n",
        "\n",
        "pd.crosstab(df.age_group,df.subscription_status,normalize=True).plot(kind='bar',stacked=True,figsize=(10,8))"
      ],
      "metadata": {
        "colab": {
          "base_uri": "https://localhost:8080/",
          "height": 783
        },
        "id": "DDN9akC7BFwO",
        "outputId": "38f62d89-d699-4b41-9f3b-db029ef5d426"
      },
      "execution_count": 15,
      "outputs": [
        {
          "output_type": "execute_result",
          "data": {
            "text/plain": [
              "<Axes: xlabel='age_group'>"
            ]
          },
          "metadata": {},
          "execution_count": 15
        },
        {
          "output_type": "display_data",
          "data": {
            "text/plain": [
              "<Figure size 1000x800 with 1 Axes>"
            ],
            "image/png": "[encoded data removed]"
          },
          "metadata": {}
        }
      ]
    },
    {
      "cell_type": "markdown",
      "source": [
        "##Step1: Defining Null and Alternate Hypothesis"
      ],
      "metadata": {
        "id": "RK-oAxyK_mGc"
      }
    },
    {
      "cell_type": "markdown",
      "source": [
        "Ho: The categorical variables age-group and subscription are independent of each other\n",
        "\n",
        "Ha: The categorical variables age-group and subscription are dependent of each other"
      ],
      "metadata": {
        "id": "oQVx0SJW_n-s"
      }
    },
    {
      "cell_type": "markdown",
      "source": [
        "## Step 2: Select Appropriate test"
      ],
      "metadata": {
        "id": "wT1ko3odASNX"
      }
    },
    {
      "cell_type": "markdown",
      "source": [
        "We choose chi-2 test for independence.\n"
      ],
      "metadata": {
        "id": "r7pqf5Q8DTOz"
      }
    },
    {
      "cell_type": "markdown",
      "source": [],
      "metadata": {
        "id": "zlfgHifl_iDU"
      }
    },
    {
      "cell_type": "markdown",
      "source": [
        "## Step 3: Decide the significance level"
      ],
      "metadata": {
        "id": "GxTuCxrNCBaD"
      }
    },
    {
      "cell_type": "markdown",
      "source": [
        "The test carried out at 0.05 level of significance"
      ],
      "metadata": {
        "id": "biU4ed7BCDKV"
      }
    },
    {
      "cell_type": "markdown",
      "source": [
        "## Step 4: Collect and prepare data"
      ],
      "metadata": {
        "id": "iT62fKNdFQp4"
      }
    },
    {
      "cell_type": "code",
      "source": [
        "#To perform chi-2 test creating a contingency table\n",
        "\n",
        "contingency_table = pd.crosstab(df['age_group'],df['subscription_status'])"
      ],
      "metadata": {
        "id": "9whycA3UFarj"
      },
      "execution_count": 19,
      "outputs": []
    },
    {
      "cell_type": "markdown",
      "source": [
        "## Step 5: Calculate P-value"
      ],
      "metadata": {
        "id": "W_WIN56bDtW-"
      }
    },
    {
      "cell_type": "code",
      "source": [
        "#importing respective libraries\n",
        "from scipy.stats import chi2_contingency\n",
        "\n",
        "#calculate the test results\n",
        "chi_test_static,p_value,dof,expected_frequency=chi2_contingency(contingency_table)\n",
        "print(chi_test_static,p_value)"
      ],
      "metadata": {
        "colab": {
          "base_uri": "https://localhost:8080/"
        },
        "id": "0uODLeJpD0pf",
        "outputId": "390b05b9-949c-4c7e-ffb2-0a65807705be"
      },
      "execution_count": 17,
      "outputs": [
        {
          "output_type": "stream",
          "name": "stdout",
          "text": [
            "70.23716243606756 5.600076564450542e-16\n"
          ]
        }
      ]
    },
    {
      "cell_type": "markdown",
      "source": [
        "## Step 6: Compare P and alpha Value"
      ],
      "metadata": {
        "id": "R3zG7Q18EnKV"
      }
    },
    {
      "cell_type": "code",
      "source": [
        "#Comapring p_value against level of significance\n",
        "\n",
        "if(p_value<0.05):\n",
        "  print('Reject Null Hypothesis - There is statistical evidence that age-group and subscription are dependent of each other')\n",
        "else:\n",
        "  print('Do not reject Null Hypothesis - There is statistical evidence that age-group and subscription are independent of each other')"
      ],
      "metadata": {
        "colab": {
          "base_uri": "https://localhost:8080/"
        },
        "id": "TKsF5J3rEozY",
        "outputId": "f338c98a-fed5-42dd-e42e-03d4f877f20e"
      },
      "execution_count": 18,
      "outputs": [
        {
          "output_type": "stream",
          "name": "stdout",
          "text": [
            "Reject Null Hypothesis - There is statistical evidence that age-group and subscription are dependent of each other\n"
          ]
        }
      ]
    },
    {
      "cell_type": "markdown",
      "source": [
        "## Step 7: Drawing Conclusion"
      ],
      "metadata": {
        "id": "mulSRwrPE7_J"
      }
    },
    {
      "cell_type": "markdown",
      "source": [
        "There is enough statistical evidence that age-group and subscription are independent of each other"
      ],
      "metadata": {
        "id": "-Mj4qMJNFKEi"
      }
    },
    {
      "cell_type": "markdown",
      "source": [
        "# Actionable insights and recommendations"
      ],
      "metadata": {
        "id": "TgpYQRTGGOuB"
      }
    },
    {
      "cell_type": "markdown",
      "source": [
        "The mean listening time is 6.18 hours\n",
        "There is enough statistical evidence (p-value of 0.0196 at 5% level of significance) to conclude that the average app engagement time of AZ Tunes is greater than the market average\n",
        "\n",
        "The difference in proportions of subscribers across the 3 age groups is significant enough (p-value of 5.60 x 10^(-16)) to conclude that the age group 18-34 is most likely to subscribe\n",
        "\n",
        "AZ Tunes can focus more on designing the special offers for this age group to be used in the marketing campaign"
      ],
      "metadata": {
        "id": "GhDnEJ7vGVp2"
      }
    }
  ]
}